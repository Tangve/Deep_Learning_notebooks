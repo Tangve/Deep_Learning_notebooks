{
  "nbformat": 4,
  "nbformat_minor": 0,
  "metadata": {
    "colab": {
      "name": "522_HW5_Notebook.ipynb",
      "provenance": [],
      "collapsed_sections": []
    },
    "kernelspec": {
      "display_name": "Python 3",
      "language": "python",
      "name": "python3"
    },
    "language_info": {
      "codemirror_mode": {
        "name": "ipython",
        "version": 3
      },
      "file_extension": ".py",
      "mimetype": "text/x-python",
      "name": "python",
      "nbconvert_exporter": "python",
      "pygments_lexer": "ipython3",
      "version": "3.7.4"
    }
  },
  "cells": [
    {
      "cell_type": "markdown",
      "metadata": {
        "colab_type": "text",
        "id": "Q5jOo9H1dACi"
      },
      "source": [
        "#Homework 5: Reinforcement Learning\n",
        "\n",
        "**Overview:** In HW5 you will get familiarized with many techniques in the intersection of Reinforcement Learning & Deep Learning. You will solve the 2 control problems from OpenAI gym by training a reinforcement learning agent using deep learning as an aid.\n",
        "\n",
        "**Online Policy:** You may look up guides online that give you general advice / explanations on RL and may look for instance at the PyTorch documentation but may not copy code from anywhere online. We will be transparent that there exists some solutions to this problem online, however, copying any such code is strictly prohibited. We have spent many hours constructing this homework so that you do not have to utilize such resources and as such will be strict in enforcing this policy. Any violations may be escalated to the Office of Student Conduct (OSC).\n",
        "\n",
        "**Colab:** We note that Colab has become increasingly unstable over the course of the semester (right now it's being extremely unstable for our staff). We've designed this homework so that if you would like, it's perfectly possible to complete the assignment without a GPU, so feel free to download this notebook as a jupyter notebook and develop locally instead of colab -- up to you!\n",
        "\n",
        "**Teams:** This homework can be completed by a maximum of **two** students. If you choose to do this homework individually, that is fine as well. \n",
        "\n",
        "**Autograder:** One thing you'll note is that there's no autograder for this homework! We'll be grading everything manually. There will just be one submision on Gradescope for this homework.\n",
        "\n",
        "This homework will be due on **April 25th, 2020 at 11:59pm**."
      ]
    },
    {
      "cell_type": "markdown",
      "metadata": {
        "colab_type": "text",
        "id": "cJswbG2qdK__"
      },
      "source": [
        "## Q0. Setting up OpenAI Gym Environment (0 pts)\n",
        "\n",
        "In this homework, you will be using OpenAI Gym, which is a toolkit for developing and comparing reinforcement learning algorithms. It supports teaching agents everything from walking to playing games like Pong or Pinball.\n",
        "\n",
        "We encourage you to read up the OpenAI gym environment documentation [here](https://gym.openai.com/docs/).\n",
        "\n",
        "Begin by installing the necessary packages, if necessary:"
      ]
    },
    {
      "cell_type": "code",
      "metadata": {
        "colab_type": "code",
        "id": "-r2vmLMjdYX_",
        "outputId": "c072c673-2b71-49ac-99d6-333fe5f79da9",
        "colab": {
          "base_uri": "https://localhost:8080/",
          "height": 55
        }
      },
      "source": [
        "!pip install gym pyvirtualdisplay > /dev/null 2>&1\n",
        "!apt-get install -y xvfb python-opengl ffmpeg > /dev/null 2>&1\n",
        "!pip install box2d-py gym[box2d] > /dev/null 2>&1\n",
        "\n",
        "from pyvirtualdisplay import Display\n",
        "display = Display(visible=0, size=(1400, 900))\n",
        "display.start()"
      ],
      "execution_count": 0,
      "outputs": [
        {
          "output_type": "execute_result",
          "data": {
            "text/plain": [
              "<Display cmd_param=['Xvfb', '-br', '-nolisten', 'tcp', '-screen', '0', '1400x900x24', ':1009'] cmd=['Xvfb', '-br', '-nolisten', 'tcp', '-screen', '0', '1400x900x24', ':1009'] oserror=None return_code=None stdout=\"None\" stderr=\"None\" timeout_happened=False>"
            ]
          },
          "metadata": {
            "tags": []
          },
          "execution_count": 34
        }
      ]
    },
    {
      "cell_type": "markdown",
      "metadata": {
        "colab_type": "text",
        "id": "eYfyOp0wyqmY"
      },
      "source": [
        "# Part 1: Value Iteration with Grid-World (15 pts)\n",
        "\n",
        "Grid-Worlds are simple worlds which, at their simplest, are Grids of size $M \\times N$ where an agent can navigate from one grid-square to another. Typically there is a goal location on this grid as well as certain squares considered \"threats\" that the agent must avoid. In this example, we are exploring \"CliffWorld\" where certain squares are marked as \"Cliffs\" and incur a reward of -100 if the agent navigates to them. Additionally, a reward of -1 is incurred on all transitions to regions not the cliff. The simulation ends when the agent reaches the goal square. A diagram of CliffWorld can be seen below (Image taken from \"Reinforcement Learning\" by Richard S. Sutton & Andrew G. Barto):\n",
        "\n",
        "![Cliff World](https://i.imgur.com/veEChFB.png)\n",
        "\n",
        "Run the following code snippets to install and make the CliffWorld environment"
      ]
    },
    {
      "cell_type": "code",
      "metadata": {
        "colab_type": "code",
        "id": "FkfgZGd90Xa6",
        "outputId": "327ee548-7d6e-4c46-a198-e8ebf14c9a07",
        "colab": {
          "base_uri": "https://localhost:8080/",
          "height": 293
        }
      },
      "source": [
        "!git clone https://github.com/podondra/gym-gridworlds.git\n",
        "!pip install gym-gridworlds"
      ],
      "execution_count": 0,
      "outputs": [
        {
          "output_type": "stream",
          "text": [
            "Cloning into 'gym-gridworlds'...\n",
            "remote: Enumerating objects: 97, done.\u001b[K\n",
            "remote: Total 97 (delta 0), reused 0 (delta 0), pack-reused 97\u001b[K\n",
            "Unpacking objects: 100% (97/97), done.\n",
            "Collecting gym-gridworlds\n",
            "  Downloading https://files.pythonhosted.org/packages/00/6a/62b65640733b10bcffa683c2fe28d8adc41f8a6f82c4954aad3660a8da6e/gym_gridworlds-0.0.2-py3-none-any.whl\n",
            "Requirement already satisfied: gym in /usr/local/lib/python3.6/dist-packages (from gym-gridworlds) (0.17.1)\n",
            "Requirement already satisfied: numpy in /usr/local/lib/python3.6/dist-packages (from gym-gridworlds) (1.18.3)\n",
            "Requirement already satisfied: scipy in /usr/local/lib/python3.6/dist-packages (from gym->gym-gridworlds) (1.4.1)\n",
            "Requirement already satisfied: six in /usr/local/lib/python3.6/dist-packages (from gym->gym-gridworlds) (1.12.0)\n",
            "Requirement already satisfied: pyglet<=1.5.0,>=1.4.0 in /usr/local/lib/python3.6/dist-packages (from gym->gym-gridworlds) (1.5.0)\n",
            "Requirement already satisfied: cloudpickle<1.4.0,>=1.2.0 in /usr/local/lib/python3.6/dist-packages (from gym->gym-gridworlds) (1.3.0)\n",
            "Requirement already satisfied: future in /usr/local/lib/python3.6/dist-packages (from pyglet<=1.5.0,>=1.4.0->gym->gym-gridworlds) (0.16.0)\n",
            "Installing collected packages: gym-gridworlds\n",
            "Successfully installed gym-gridworlds-0.0.2\n"
          ],
          "name": "stdout"
        }
      ]
    },
    {
      "cell_type": "code",
      "metadata": {
        "colab_type": "code",
        "id": "4Ma_du0_1kep",
        "colab": {}
      },
      "source": [
        "import gym\n",
        "import gym_gridworlds\n",
        "import numpy as np\n",
        "import matplotlib.pyplot as plt\n",
        "\n",
        "env = gym.make('Cliff-v0')"
      ],
      "execution_count": 0,
      "outputs": []
    },
    {
      "cell_type": "markdown",
      "metadata": {
        "colab_type": "text",
        "id": "1-CGdGra4RBk"
      },
      "source": [
        "### 1.1: Understanding the simulator\n",
        "\n",
        "You can use the `observation_space` and `action_space` attributes to look at properties of the state and action spaces, respectively. Run the following code snippets below:"
      ]
    },
    {
      "cell_type": "code",
      "metadata": {
        "colab_type": "code",
        "id": "-X70OvNx1oZv",
        "outputId": "7f9203b1-5001-4d80-9d6a-171b4d6f9c67",
        "colab": {
          "base_uri": "https://localhost:8080/",
          "height": 72
        }
      },
      "source": [
        "print(env.action_space)\n",
        "print(env.observation_space)\n",
        "print(env)\n",
        "state = env.reset()"
      ],
      "execution_count": 0,
      "outputs": [
        {
          "output_type": "stream",
          "text": [
            "Discrete(4)\n",
            "Tuple(Discrete(4), Discrete(12))\n",
            "<CliffEnv<Cliff-v0>>\n"
          ],
          "name": "stdout"
        }
      ]
    },
    {
      "cell_type": "markdown",
      "metadata": {
        "colab_type": "text",
        "id": "bJ-SX6-Y4ham"
      },
      "source": [
        "**Q1a (5 pts)** What do each of these variables mean? How big is your action space and what does each action value represent (i.e. what action does a 0 represent in the action space)? How big is your observation space? What does this mean? Answer all these questions in your writeup. To answer this question, play around with the simulator below and print out some of the returned values from the simulator."
      ]
    },
    {
      "cell_type": "code",
      "metadata": {
        "colab_type": "code",
        "id": "Fgg_cLcl3dBs",
        "outputId": "08c8f269-c40a-41e7-9de1-6bf39356cb8b",
        "colab": {
          "base_uri": "https://localhost:8080/",
          "height": 35
        }
      },
      "source": [
        "ACTION = 2\n",
        "state, reward, done, _ = env.step(ACTION)\n",
        "print(state, reward)"
      ],
      "execution_count": 0,
      "outputs": [
        {
          "output_type": "stream",
          "text": [
            "(3, 0) -1\n"
          ],
          "name": "stdout"
        }
      ]
    },
    {
      "cell_type": "markdown",
      "metadata": {
        "colab_type": "text",
        "id": "F6t1prjo5fjb"
      },
      "source": [
        "### 1.2: Value Iteration\n",
        "**Q1b (10 pts)** Now that you understand the simulator, let's make an algorithm to solve this problem! As you remember from CIS 519 / CIS 520, one way of solving Markov Decision Processes is an algorithm called **Value Iteration**. Use value iteration to find an optimal policy for the CliffWorld problem. Once your value iteration has converged, display the optimal policy / value function using the helper method below. Put the image in your writeup and explain the found policy. Now, using your optimal found policy, run your optimal policy function with the simulator -- did it reach the goal state? Explain in your writeup.\n",
        "\n",
        "**Note:** There's not cutoffs for this question, as long as your policy + policy explanation seem reasonable you will get the points.\n",
        "\n",
        "**Resources:** If you need a refresher on Value Iteration, highly recommending Andrew Ng's notes on them [here](http://cs229.stanford.edu/notes/cs229-notes12.pdf)."
      ]
    },
    {
      "cell_type": "code",
      "metadata": {
        "colab_type": "code",
        "id": "FHHaSdF_kLo3",
        "colab": {}
      },
      "source": [
        "# TODO: Insert your code here to perform value iteration\n",
        "def value_iteration(env, gamma, theta=0.001, max_iteration=300):\n",
        "  num_x, num_y = env.observation_space[0].n, env.observation_space[1].n\n",
        "\n",
        "  def one_step_ahead(V, cur_state):\n",
        "    num_action = env.action_space.n\n",
        "    A = np.zeros(num_action)\n",
        "    for a in range(num_action):\n",
        "      env.S = cur_state\n",
        "      state, reward, done, _ = env.step(a) \n",
        "      if state==(num_x-1, num_y-1): reward = 10\n",
        "      A[a] = reward + gamma*V[state[0],state[1]]\n",
        "    return A\n",
        "  \n",
        "  V = np.zeros([num_x, num_y])\n",
        "  for iteration in range(max_iteration):\n",
        "    delta = 0\n",
        "    for i in range(num_x):\n",
        "      for j in range(num_y):\n",
        "        A = one_step_ahead(V, (i,j))\n",
        "        best_action_value = np.max(A)\n",
        "        delta = max(delta, np.abs(best_action_value-V[i,j])) \n",
        "        V[i,j] = best_action_value    \n",
        "    if delta < theta: break         \n",
        " \n",
        "  policy = np.zeros([num_x, num_y], dtype=int)\n",
        "  for i in range(num_x):\n",
        "    for j in range(num_y):\n",
        "      A = one_step_ahead(V,(i,j))\n",
        "      best_action = np.argmax(A)\n",
        "      policy[i,j] = best_action\n",
        "  return policy, V"
      ],
      "execution_count": 0,
      "outputs": []
    },
    {
      "cell_type": "code",
      "metadata": {
        "colab_type": "code",
        "id": "nJcTk00tkOiz",
        "colab": {}
      },
      "source": [
        "policy, V = value_iteration(env, 0.9)"
      ],
      "execution_count": 0,
      "outputs": []
    },
    {
      "cell_type": "code",
      "metadata": {
        "colab_type": "code",
        "id": "i37QpPL5EwEz",
        "colab": {}
      },
      "source": [
        "import cv2\n",
        "import numpy as np\n",
        "from matplotlib import pyplot as plt\n",
        "\n",
        "def display_policy(policy_table, value_table):\n",
        "  \"\"\" Helper function to plot your learned policy and value function.\n",
        "      Feel free to modify this however you like\n",
        "\n",
        "      Args:\n",
        "        policy_table (np.array) : Array of size [4, 12] where each entry represents the action between 0-3 corresponding to your learned policy.\n",
        "        value_table  (np.array) : Array of size [4, 12] where each entry represents the value for the optimal action\n",
        "  \"\"\"\n",
        "\n",
        "  grid_width = 12\n",
        "  grid_height = 4\n",
        "  square_side = 100\n",
        "\n",
        "  margin = 50\n",
        "\n",
        "  height = square_side * (grid_height + 1)\n",
        "  width = square_side * (grid_width + 1)\n",
        "\n",
        "  image = np.zeros((height,width,3), np.uint8)\n",
        "  image.fill(255)\n",
        "  \n",
        "  color = (0, 0, 0)\n",
        "  thickness = 2\n",
        "\n",
        "  arrow_margin = 25\n",
        "\n",
        "  text_offset = (-20, 30)\n",
        "\n",
        "  max_val = np.max(value_table)\n",
        "  min_val = np.min(value_table)\n",
        "\n",
        "  min_col = np.array([255.0, 0.0, 0.0])\n",
        "  max_col = np.array([0.0, 255.0, 0.0])\n",
        "\n",
        "  for x in range(0, policy_table.shape[1]):\n",
        "    for y in range(0, policy_table.shape[0]):\n",
        "\n",
        "      value = value_table[y][x]\n",
        "\n",
        "      interp_fac = (value - min_val) / (max_val - min_val)\n",
        "      interp_col = interp_fac * min_col + (1.0 - interp_fac) * max_col\n",
        "      interp_col = (interp_col.astype(np.int).tolist())\n",
        "\n",
        "      start_point = (margin + square_side * x, margin + square_side * y)\n",
        "      end_point = (margin + square_side * (x + 1), margin + square_side * (y + 1))\n",
        "\n",
        "      cv2.rectangle(image, start_point, end_point, interp_col, cv2.FILLED)\n",
        "\n",
        "      x_offset = [0, square_side / 2.0 - arrow_margin, 0, -square_side / 2.0 + arrow_margin]\n",
        "      y_offset = [-square_side / 2.0 + arrow_margin, 0, square_side / 2.0 - arrow_margin, 0]\n",
        "\n",
        "      action = policy_table[y][x]\n",
        "      arrow_start = (int(start_point[0] +  square_side / 2.0), int(start_point[1] +  square_side / 2.0))\n",
        "      arrow_end = (int(np.round(arrow_start[0] + x_offset[action])), int(np.round(arrow_start[1] + y_offset[action])))\n",
        "\n",
        "      cv2.arrowedLine(image, arrow_start, arrow_end, color, thickness, tipLength = 0.5) \n",
        "\n",
        "      text_pos = (arrow_start[0] + text_offset[0], arrow_start[1] + text_offset[1])\n",
        "      cv2.putText(image, '%.2f' % (value_table[y][x]), text_pos, cv2.FONT_ITALIC, .7, (255, 255, 255), 2)\n",
        "  \n",
        "  \n",
        "  plt.figure(figsize=(15,15))\n",
        "  plt.axis('off')\n",
        "  plt.imshow(image)\n",
        "  \n",
        "  plt.show()\n",
        "\n",
        "\n",
        "## Example of how to use with just random actions and values\n",
        "# rand_actions = np.random.randint(4, size=(4, 12))\n",
        "# rand_values = np.random.rand(4, 12)\n",
        "\n",
        "# display_policy(rand_actions, rand_values)"
      ],
      "execution_count": 0,
      "outputs": []
    },
    {
      "cell_type": "code",
      "metadata": {
        "colab_type": "code",
        "id": "zzvGrw12iRk4",
        "outputId": "962ea882-d678-4dd1-b5fb-433b5bdd82e2",
        "colab": {
          "base_uri": "https://localhost:8080/",
          "height": 90
        }
      },
      "source": [
        "policy"
      ],
      "execution_count": 0,
      "outputs": [
        {
          "output_type": "execute_result",
          "data": {
            "text/plain": [
              "array([[1, 1, 1, 1, 1, 1, 1, 1, 1, 1, 1, 2],\n",
              "       [1, 1, 1, 1, 1, 1, 1, 1, 1, 1, 1, 2],\n",
              "       [1, 1, 1, 1, 1, 1, 1, 1, 1, 1, 1, 2],\n",
              "       [0, 0, 0, 0, 0, 0, 0, 0, 0, 0, 1, 1]])"
            ]
          },
          "metadata": {
            "tags": []
          },
          "execution_count": 9
        }
      ]
    },
    {
      "cell_type": "code",
      "metadata": {
        "colab_type": "code",
        "id": "jGiFe60P9u4G",
        "outputId": "3d951862-61d4-4d96-9bb3-9064d68c115d",
        "colab": {
          "base_uri": "https://localhost:8080/",
          "height": 353
        }
      },
      "source": [
        "display_policy(policy, V)"
      ],
      "execution_count": 0,
      "outputs": [
        {
          "output_type": "display_data",
          "data": {
            "image/png": "[encoded data removed]",
            "text/plain": [
              "<Figure size 1080x1080 with 1 Axes>"
            ]
          },
          "metadata": {
            "tags": [],
            "needs_background": "light"
          }
        }
      ]
    },
    {
      "cell_type": "markdown",
      "metadata": {
        "colab_type": "text",
        "id": "bFwb5swIdjJC"
      },
      "source": [
        "# Part 2: Setting up Deep Q-Learning with Cart Pole (35 pts)\n",
        "\n",
        "Recall that in reinforcement learning, an actor's job is to make **actions** $A$ in accordance with observed **states** $S$ in a particular environment. In return, the actor receives a reward $r \\in R$. The actor is then expected to refine their strategy in order to make better actions in future.\n",
        "\n",
        "In this section, we'll be looking at the Cart Pole problem: a cart is holding a pole up, and the actor's job is to apply force (left or right) to the cart to keep the pole up.\n",
        "\n",
        "Run the following code to import the environment for the Cart Pole problem:\n",
        "\n"
      ]
    },
    {
      "cell_type": "code",
      "metadata": {
        "colab_type": "code",
        "id": "JDfGYALBjsTS",
        "colab": {}
      },
      "source": [
        "import gym\n",
        "\n",
        "env = gym.make('CartPole-v0')"
      ],
      "execution_count": 0,
      "outputs": []
    },
    {
      "cell_type": "markdown",
      "metadata": {
        "colab_type": "text",
        "id": "TDj6W4g_j8Iu"
      },
      "source": [
        "`env` is now a variable that contains information about the Cart Pole environment. Let's get a better sense of what its state and action spaces look like.\n",
        "\n",
        "### 2.1: Understanding the simulator\n",
        "\n",
        "You can use the `observation_space` and `action_space` attributes to look at properties of the state and action spaces, respectively. Run the following code snippets below:"
      ]
    },
    {
      "cell_type": "code",
      "metadata": {
        "colab_type": "code",
        "id": "P5BvTq5SkZT_",
        "outputId": "470059c1-4720-495f-a900-7ec4a731d3d1",
        "colab": {
          "base_uri": "https://localhost:8080/",
          "height": 90
        }
      },
      "source": [
        "print(env.observation_space)\n",
        "print(env.observation_space.high)\n",
        "print(env.observation_space.low)\n",
        "print(env.action_space)"
      ],
      "execution_count": 0,
      "outputs": [
        {
          "output_type": "stream",
          "text": [
            "Box(4,)\n",
            "[4.8000002e+00 3.4028235e+38 4.1887903e-01 3.4028235e+38]\n",
            "[-4.8000002e+00 -3.4028235e+38 -4.1887903e-01 -3.4028235e+38]\n",
            "Discrete(2)\n"
          ],
          "name": "stdout"
        }
      ]
    },
    {
      "cell_type": "markdown",
      "metadata": {
        "colab_type": "text",
        "id": "whB4wLLrxbkk"
      },
      "source": [
        "**Q2a (5 pts)** What do each of variables mean? What are the individual components of the observation space? In the writeup, explain what each of the four elements of the observation space are and what their bounds are. Explain the environment's action space in the writeup as well.\n",
        "\n",
        "If you need more help figuring out what these values are, feel free to watch the recitation where we discuss what these parameters represent. Additionally you can look the [Open AI Github Page](https://github.com/openai/gym/wiki/CartPole-v0). \n",
        "\n",
        "**Note:** This page is a bit out of date so be careful to not use the exact numbers listed on the github page."
      ]
    },
    {
      "cell_type": "markdown",
      "metadata": {
        "colab_type": "text",
        "id": "2cjaG72TkZuc"
      },
      "source": [
        "### 2.2: Understanding the Reward Function\n",
        "Next, we'll explore the reward function for the DQN and derive a loss function for it. First, let's understand how rewards are generated for the Cartpole problem.\n",
        "\n",
        "First, look again at the [Open AI Github Page](https://github.com/openai/gym/wiki/CartPole-v0).\n",
        "\n",
        "**Q2b (5 pts)** In your writeup describe the reward function for this problem. How much is the actor rewarded on each timestep of an episode, and under what conditions does it occur? "
      ]
    },
    {
      "cell_type": "markdown",
      "metadata": {
        "colab_type": "text",
        "id": "9RyfY0dVzk5Q"
      },
      "source": [
        "### 2.3: Deriving the Loss Function"
      ]
    },
    {
      "cell_type": "markdown",
      "metadata": {
        "colab_type": "text",
        "id": "p1g5ZIYYj0gP"
      },
      "source": [
        "In Q-learning, an actor can gauge which actions to pick at a certain state by approximating the function $Q : S \\times A \\to \\mathbb{R}$; that is, $Q(s, a)$ for a state $s$ and an action $a$ is a measure of the value of taking action $a$ while at state $s$. \n",
        "\n",
        "Recall that we want to ideally update $Q$ according to the following update rule:\n",
        "\n",
        "$$ Q(s, a) \\leftarrow (1 - \\alpha)Q(s_t,a_t) + \\alpha\\left(r_t + \\gamma\\max_a Q(s_{t+1}, a_{t+1}) \\right)$$\n",
        "where $s_{t+1}$ is the state that results from taking action $a$ in state $s_t$, $r_t$ is the reward obtained, and $\\gamma$ is the discount factor.\n",
        "\n",
        "**Intuition:** The intuition behind this update rule, is that $Q(s,a)$ estimates the total reward that an agent will receive for the remainder of the simulation given the state $s_t$ and action $a_t$ that the agent takes. Therefore, we weight the old approximation by a factor of $1 - \\alpha$ and then we estimate the total future reward by taking the extrinsic reward $r$ we received, and adding to it the maximum estimated reward we can receive from state $s'$ by choosing the reward that maximizes $Q(s', a')$.\n",
        "\n",
        "When does this converge? Note that if both $Q(s_t,a_t)$ and $\\left(r_t + \\gamma\\max_a Q(s_{t+1}, a_{t+1})\\right)$ are always equal, then $Q(s,a)$ has converged. Therefore to approximate the Q function, we can instead minimize the following function:\n",
        "\n",
        "$$ ((r_t + \\gamma \\max_a Q(s_{t+1}, a)) - Q(s_t, a_t))^2$$"
      ]
    },
    {
      "cell_type": "markdown",
      "metadata": {
        "colab_type": "text",
        "id": "ksz_5QsNA4qd"
      },
      "source": [
        "**Q2c (10 pts)** Using only the values below,  code up the loss function for a Q-Learning algorithm in PyTorch specifically with respect to the Cart-Pole problem. Submit a screenshot of your implementation in your writeup as well as an explanation.\n",
        "\n",
        "**Note:** Don't forget about the action space you expored in part 2.1!"
      ]
    },
    {
      "cell_type": "code",
      "metadata": {
        "colab_type": "code",
        "id": "TTex-pkWBDf6",
        "colab": {}
      },
      "source": [
        "def calculate_loss(gamma, reward, Q_t, Q_next):\n",
        "  \"\"\" Method header to calculate the loss.\n",
        "  NOTE: THIS CODE SNIPPET WILL NOT WORK RIGHT NOW, BUT SHOULD ONCE YOU HAVE\n",
        "  EVERYTHING ELSE IMPLEMENTED\n",
        "\n",
        "  Args:\n",
        "      gamma  (float) : Discount for rewards\n",
        "      reward (int)   : Reward for action taken\n",
        "      Q_t    (tensor): Tensor of Q-Values for the action at time t\n",
        "      Q_next (tensor): Tensor of Q-Values for the action at time t+1\n",
        "  \"\"\"  \n",
        "  # TODO: Insert your code here\n",
        "  pass\n",
        "\n",
        "calculate_loss = nn.MSELoss()"
      ],
      "execution_count": 0,
      "outputs": []
    },
    {
      "cell_type": "markdown",
      "metadata": {
        "colab_type": "text",
        "id": "DcIRN1z7EkZl"
      },
      "source": [
        "### 2.4: Defining the Neural Network Architecture"
      ]
    },
    {
      "cell_type": "markdown",
      "metadata": {
        "colab_type": "text",
        "id": "pJ_YE4rJk1Dh"
      },
      "source": [
        "In regular Q-Learning we have a table of size $|S| \\times |A|$ where each entry in the table represents the estimated reward. However, this space can be extremely large, so we instead approximate this mapping with a neural network instead.\n",
        "\n",
        "Think carefully about how you should define your neural network architecture. What are your inputs? What are your outputs?\n",
        "\n",
        "**Q2d (5 pts)** Implement the neural network to approximate the Q function below. In your writeup explain what the inputs and outputs are for your neural network."
      ]
    },
    {
      "cell_type": "code",
      "metadata": {
        "colab_type": "code",
        "id": "mo_l5CTHk0LQ",
        "colab": {}
      },
      "source": [
        "import torch\n",
        "import torch.nn as nn\n",
        "\n",
        "class DQNetwork(nn.Module):\n",
        "    \"\"\" Template class for your DQN. Please feel free to modify headers as needed.\n",
        "    \"\"\"\n",
        "    def __init__(self): \n",
        "      super(DQNetwork, self).__init__()\n",
        "      self.net = nn.Sequential(\n",
        "          nn.Linear(4, 128),\n",
        "          nn.ReLU(),\n",
        "          nn.Linear(128, 32),\n",
        "          nn.ReLU(),\n",
        "          nn.Linear(32, 2) )\n",
        "\n",
        "    def forward(self, s):\n",
        "      return self.net(s.float())\n",
        "\n",
        "policy_net = DQNetwork()\n",
        "optimizer = torch.optim.Adam(policy_net.parameters())"
      ],
      "execution_count": 0,
      "outputs": []
    },
    {
      "cell_type": "markdown",
      "metadata": {
        "colab_type": "text",
        "id": "WqMWhVd7Favf"
      },
      "source": [
        "### 2.5: Replay Buffer\n",
        "\n",
        "Before we actually write our training loop, let's carefully think about how the training loop should be structured first. One's first thought is that the best course of action is to run the training linearly with time. By this we mean you start your simulation at time t=0, perform the loss minimization above, progress to time t=1, repeat until the simulation has finished. \n",
        "\n",
        "**This is a bad idea.** \n",
        "\n",
        "Why? In the Cart-Pole problem, the simulation stops (and is successful) if the cart can balance the pole for 200 subsequent steps. Remember that neural networks have one key fault, which is that they exhibit **catastrophic forgetting**. Therefore, by the time the neural network gets to the last 200 steps, it may have forgotten completely what it learned in the first 100 steps! \n",
        "\n",
        "\n",
        "To solve this issue, it is common practice in Deep Q-Learning to implement **Memory Replay**. When implementing this, we sample a batch representing previous situations encountered, and train on this instead. Since these situations are randomly sampled and have no dependence on time, we break this time dependence and threfore circumvent the issue of catastrophic forgetting.\n",
        "\n",
        "**Q2e (5 pts)** Implement a ReplayBuffer below as a FIFO queue of maximum capacity that you initialize the buffer with. You should be able to push a new memory to the replay buffer, and also randomly sample a batch from the ReplayBuffer. In the writeup, describe your tuple \"replay\" in the push function. What are the elements of your tuple? Why? \n",
        "\n",
        "*Hint:* think about the loss function you derived earlier."
      ]
    },
    {
      "cell_type": "code",
      "metadata": {
        "colab_type": "code",
        "id": "rj8ZSqbGI5fo",
        "colab": {}
      },
      "source": [
        "import collections\n",
        "import random\n",
        "\n",
        "class ReplayBuffer:\n",
        "  \"\"\" ReplayBuffer is a Buffer that allows us to implement Memory Replay.\n",
        "      Feel free to modify the method signatures as you like, this is simply\n",
        "      how we implemented it.\n",
        "  \"\"\"\n",
        "  def __init__(self, capacity):\n",
        "    \"\"\" Initializes the ReplayBuffer\n",
        "    Args:\n",
        "      capacity (int): The maximum number of memories stored in the ReplayBuffer\n",
        "    \"\"\"\n",
        "    self.capacity = capacity\n",
        "    self.memory = collections.deque()\n",
        "\n",
        "  def push(self, replay):\n",
        "    \"\"\" Pushes a new memory to ReplayBuffer. If at capacity, removes first\n",
        "    memory stored (FIFO).\n",
        "\n",
        "    Args:\n",
        "      replay (Tuple): The tuple of all pertinent information for the replay\n",
        "    \"\"\"\n",
        "    if len(self.memory) < self.capacity:\n",
        "      self.memory.append(replay)\n",
        "    else:\n",
        "      self.memory.popleft()\n",
        "      self.memory.append(replay)\n",
        "\n",
        "  def sample(self, batch_size):\n",
        "    \"\"\" Randomly samples a batch of size 'batch_size' from the ReplayBuffer\n",
        "\n",
        "    Args:\n",
        "      batch_size (int): Integer representing the desired batch size to be sampled\n",
        "\n",
        "    Returns:\n",
        "      Tuple representing the replay\n",
        "    \n",
        "    Hint: You can use random.sample to do this really easily\n",
        "    \"\"\"\n",
        "    return random.sample(self.memory, batch_size)\n",
        "\n",
        "  def __len__(self):\n",
        "    \"\"\" \n",
        "    Returns:\n",
        "      (int) Returns the current length of the Replay Buffer\n",
        "    \"\"\"\n",
        "    return len(self.memory)\n",
        "\n",
        "memory = ReplayBuffer(1000)"
      ],
      "execution_count": 0,
      "outputs": []
    },
    {
      "cell_type": "markdown",
      "metadata": {
        "colab_type": "text",
        "id": "5Zvucp6tpUig"
      },
      "source": [
        "### 2.6: $\\varepsilon$-greedy action selection\n",
        "\n",
        "*Curiosity killed the cat, right?* Well in reinforcement learning, curiosity, namely *exploration* is crucial in reinforcement learning to learn adequately. A common motif is **exploration vs. exploitation**, which describes the tradeoffs between selecting the best possible action known to us versus exploring the action space more by selecting a random action. You can think of this tradeoff like \"should I go to that restaurant that I know is really really good, or should I instead try out that new restaurant that I've never been to\". However, since we're all social distancing, I guess this point is moot anyways.\n",
        "\n",
        "Now, let's implement the **$\\varepsilon$ greedy algorithm**, which does exactly what was mentioned above:\n",
        "\n",
        "**Q2f (5 pts)** Implement a function that accepts a set of Q-values corresponding to a set of actions $A$, and a parameter $\\varepsilon$, that does the following:\n",
        "- With probability $\\varepsilon$, returns the action that yields the maximum Q-value.\n",
        "- With probability $1 - \\varepsilon$, returns a randomly chosen action. \n",
        "\n",
        "In your writeup, answer the following question:\n",
        "If you have simulated $N=10000$ steps, and have a $\\varepsilon$ of .99, what is the expected number of random actions that you will take? What about if $\\varepsilon$ is .9 instead? How many more random actions will you take with the latter value of $\\varepsilon$ than the former. Explain how varying this parameter changes how the agent learns.\n"
      ]
    },
    {
      "cell_type": "code",
      "metadata": {
        "colab_type": "code",
        "id": "li_W7qiLp58k",
        "colab": {}
      },
      "source": [
        "def epsilon_greedy_action(q_values, epsilon):\n",
        "  \"\"\"\n",
        "  Implements an epsilon-greedy action selection.\n",
        "  \n",
        "  Args:\n",
        "    q_values (Tensor):  Tensor representing the predicted q_values for each action\n",
        "    epsilon  (Float):  Float from 0-1 representing the probability of selecting a random action, instead of the optimal\n",
        "    \n",
        "  \"\"\"\n",
        "  if torch.rand(1) < epsilon:\n",
        "    return torch.tensor(random.sample(range(len(q_values)), 1))    \n",
        "  else:\n",
        "    return torch.tensor([torch.argmax(q_values)])"
      ],
      "execution_count": 0,
      "outputs": []
    },
    {
      "cell_type": "markdown",
      "metadata": {
        "colab_type": "text",
        "id": "LNDbdgYlPnzD"
      },
      "source": [
        "# Part 3: Running Deep Q-Learning with Cart Pole (50 pts)"
      ]
    },
    {
      "cell_type": "markdown",
      "metadata": {
        "colab_type": "text",
        "id": "FYgEmf5BeXYc"
      },
      "source": [
        "Now that we have all of our components implemented, let's put them all together! First implement the function to update the weights for the DQN:"
      ]
    },
    {
      "cell_type": "code",
      "metadata": {
        "id": "ji4QvjeT27In",
        "colab_type": "code",
        "colab": {}
      },
      "source": [
        "from torch.autograd import Variable\n",
        "def learn(memory):\n",
        "  \"\"\" Method that updates the DQN parameters for a single batch sampled from the \n",
        "      Memory Replay Buffer. Feel free to modify the method header as you like.\n",
        "  \"\"\"\n",
        "\n",
        "  \"\"\" Pseudocode:\n",
        "      1. Sample batch from ReplayBuffer\n",
        "      2. From the ReplayBuffer feed in state at time t to the DQN\n",
        "      3. From the ReplayBuffer feed in state at time t + 1 to the DQN\n",
        "      4. Detach the output from step 3\n",
        "      5. Calculate Loss\n",
        "      6. Zero Optimizer Gradient\n",
        "      7. Backpropagate Loss\n",
        "      8. Step Optimizer\n",
        "  \"\"\"\n",
        "  if len(memory) < batch_size: return\n",
        "  replays = memory.sample(batch_size)\n",
        "  i = 0\n",
        "  Q_t, expected_reward = torch.zeros(batch_size), []\n",
        "  for state, action, next_state, reward, done in replays:\n",
        "       if done:\n",
        "            expected_reward.append(reward)\n",
        "       else:\n",
        "            q_next = policy_net(torch.tensor(next_state)).detach()\n",
        "            expected_reward.append(reward + gamma * torch.max(q_next).item())\n",
        "       Q_t[i] = policy_net(torch.tensor(state))[action]\n",
        "       i += 1\n",
        "  \n",
        "  Q_next = Variable(torch.tensor(expected_reward))\n",
        "  loss = calculate_loss(Q_t, Q_next)\n",
        "  optimizer.zero_grad()\n",
        "  loss.backward()\n",
        "  for param in policy_net.parameters():\n",
        "      param.grad.data.clamp_(-1, 1)\n",
        "  optimizer.step()  \n",
        "  \n",
        "  return loss.item()"
      ],
      "execution_count": 0,
      "outputs": []
    },
    {
      "cell_type": "markdown",
      "metadata": {
        "colab_type": "text",
        "id": "HjwWKzJ7eiJq"
      },
      "source": [
        "Now, let's implement the loop that simulates the CartPole problem for a single episode."
      ]
    },
    {
      "cell_type": "code",
      "metadata": {
        "colab_type": "code",
        "id": "lfPLHqhaPwNf",
        "colab": {}
      },
      "source": [
        "def run_episode(env, epsilon, episode):\n",
        "  \"\"\" Method that runs a single episode of the CartPole problem. Feel free to\n",
        "      modify the method header as you like. \n",
        "  \"\"\"\n",
        "  state = env.reset()\n",
        "  rewards, losses, iterations = 0, 0, 0\n",
        "  while True:\n",
        "    \"\"\" Pseudocode:\n",
        "        1. Input state into your network to get the predicted Q Values for each action\n",
        "        2. Use \"epsilon_greedy_action\" to get your next action from your Q-Values\n",
        "        3. Once you've done the first two steps, you can simulate tacking the action \"action\" in the environment as follows. \n",
        "          Here we assume \"action\" is an integer that is either 0 or 1 (left or right).\n",
        "\n",
        "      Return Values: \n",
        "        next_state: (Tuple) Next state after having taken action \"action\"\n",
        "        reward  : (int)   Reward received for taking action \"action\"\n",
        "        done   : (bool)  Whether or not the simulation has reached an ending condition (see github repo linked earlier for more information)\n",
        "    \"\"\" \n",
        "    env.render(mode='rgb_array')\n",
        "    q_values = policy_net(torch.tensor(state).float()).detach()\n",
        "    action = epsilon_greedy_action(q_values, epsilon)\n",
        "    next_state, reward, done, _ = env.step(np.array(action.item())) \n",
        "    rewards += reward\n",
        "    iterations += 1\n",
        "    reward = reward if not done else -reward \n",
        "    \"\"\" Pseudocode (cont):\n",
        "        4. (Optional) Call cool_video.add_frame to add a frame to your video\n",
        "        5. Push this information to your ReplayBuffer\n",
        "        6. Set your current state to the next state returned\n",
        "        7. Call \"learn\" for a single batch\n",
        "        8. (Optional) Call cool_video.done to signal that it finished the episode\n",
        "        9. Check if the simulation is done, and if so exit out of the function.\n",
        "          If the simulation is not done, then we loop and repeat steps 1-9\n",
        "    \"\"\"\n",
        "    cool_video.add_frame(env, episode)\n",
        "    memory.push(tuple([state, action, next_state, reward, done]))\n",
        "    state = next_state\n",
        "    loss = learn(memory)\n",
        "    losses += loss if loss else 0\n",
        "    cool_video.done(rewards)\n",
        "    if done: break\n",
        "\n",
        "  return rewards, losses/iterations, iterations"
      ],
      "execution_count": 0,
      "outputs": []
    },
    {
      "cell_type": "markdown",
      "metadata": {
        "colab_type": "text",
        "id": "pvf8cLetepeA"
      },
      "source": [
        "Finally, let's run the loop for the desired # of episodes!"
      ]
    },
    {
      "cell_type": "code",
      "metadata": {
        "id": "_I6mOKEj27Iz",
        "colab_type": "code",
        "colab": {},
        "outputId": "c6454238-b217-4e2e-c5a5-a449675dedba"
      },
      "source": [
        "# TODO: Run \"run_episode\" for the number of desired episodes.\n",
        "# If you want to generate the video, call cool_video.generate_video_at_path to generate your training video at your desired path. \n",
        "# We recommend saving to Google Drive so you can watch it immediately.\n",
        "import numpy as np\n",
        "batch_size = 32\n",
        "episodes = 100 \n",
        "gamma = 0.9\n",
        "all_rewards, all_losses = [], []\n",
        "for episode in range(episodes):\n",
        "  epsilon = 0.3/np.sqrt(episode+1)\n",
        "  rewards, losses, iterations = run_episode(env, epsilon, episode)\n",
        "  all_rewards.append(rewards)\n",
        "  all_losses.append(losses)\n",
        "  if episode % 10 == 0:\n",
        "    print(\"episode: {:2d}, iteration: {:2d}, epsilon: {:.4f}, average reward: {:.4f}\".format(episode, iterations, epsilon, np.array(all_rewards[max(0, episode-9):(episode+1)]).mean()))\n",
        "    if np.array(all_rewards[max(0, episode-9):(episode+1)]).mean() >= 200: break\n",
        "\n",
        "# cool_video.generate_video_at_path('C:/Users/Mian Wang/Desktop/cartpole.avi')"
      ],
      "execution_count": 0,
      "outputs": [
        {
          "output_type": "stream",
          "text": [
            "episode:  0, iteration: 17, epsilon: 0.3000, average reward: 17.0000\n",
            "episode: 10, iteration: 22, epsilon: 0.0905, average reward: 20.8000\n",
            "episode: 20, iteration: 35, epsilon: 0.0655, average reward: 18.3000\n",
            "episode: 30, iteration: 200, epsilon: 0.0539, average reward: 81.0000\n",
            "episode: 40, iteration: 159, epsilon: 0.0469, average reward: 195.9000\n",
            "episode: 50, iteration: 200, epsilon: 0.0420, average reward: 189.8000\n",
            "episode: 60, iteration: 200, epsilon: 0.0384, average reward: 197.0000\n",
            "episode: 70, iteration: 200, epsilon: 0.0356, average reward: 181.0000\n",
            "episode: 80, iteration: 120, epsilon: 0.0333, average reward: 179.4000\n",
            "episode: 90, iteration: 200, epsilon: 0.0314, average reward: 186.1000\n",
            "episode: 100, iteration: 200, epsilon: 0.0299, average reward: 174.2000\n",
            "episode: 110, iteration: 200, epsilon: 0.0285, average reward: 200.0000\n"
          ],
          "name": "stdout"
        }
      ]
    },
    {
      "cell_type": "markdown",
      "metadata": {
        "colab_type": "text",
        "id": "onFZJVjbeu3L"
      },
      "source": [
        "**Q3a (30 pts)** After implementing the above, tune your hyperparameters until you have a CartPole implementation that averages a reward of > 175 over 10 episodes. Having that performance will give you full credit for this problem. \n",
        "\n",
        "In your writeup report your loss graph (you can either choose to plot the loss per step of each episode, or the average loss over an entire episode -- the former will be more noisy). Also in your writeup report a plot that shows the total reward obtained per episode. Also report your average reward over your final 10 episodes of training.\n",
        "\n",
        "Breakdown of points:\n",
        "\n",
        "1.   Loss graph (5 pts)\n",
        "2.   Reward graph (5 pts)\n",
        "3.   Performance (20 pts):\n",
        "\n",
        "     a. >= 175 average over 10 episodes (20/20 pts) \n",
        "\n",
        "     b. >= 150 average over 10 episodes (15/20 pts)\n",
        "\n",
        "     c. >= 100 average over 10 episodes (10/20 pts)\n",
        "\n",
        "     d. >= 50 average over 10 episodes (5/20 pts)\n",
        "\n",
        "\n",
        "\n",
        "\n",
        "\n",
        "**Extra Credit (3 pts):** As extra credit, also plot on top of this a curve that displays the running average reward for the past 10 episodes (effectively smoothing out this curve). \n",
        "\n",
        "**Note:** We know everyone is tired of tensorboard at this point so feel free to use matplotlib or whatever plotting software you like best."
      ]
    },
    {
      "cell_type": "code",
      "metadata": {
        "id": "zab5GZHJ27I4",
        "colab_type": "code",
        "colab": {},
        "outputId": "f420f83c-2623-4998-c82e-f024ca652928"
      },
      "source": [
        "import matplotlib.pyplot as plt\n",
        "plt.plot(all_losses)\n",
        "plt.title('loss')\n",
        "plt.xlabel('episode')\n",
        "plt.ylabel('loss')\n",
        "plt.show()\n",
        "plt.plot(all_rewards)\n",
        "plt.title('rewards')\n",
        "plt.xlabel('episode')\n",
        "plt.ylabel('rewards')\n",
        "plt.show()\n",
        "running_average_reward = [np.array(all_rewards[max(0, episode-9):(episode+1)]).mean() for episode in range(episodes)]\n",
        "plt.plot(running_average_reward)\n",
        "plt.title('running average rewards')\n",
        "plt.xlabel('episode')\n",
        "plt.ylabel('running average rewards')\n",
        "plt.show()"
      ],
      "execution_count": 0,
      "outputs": [
        {
          "output_type": "display_data",
          "data": {
            "image/png": "[encoded data removed]",
            "text/plain": [
              "<Figure size 432x288 with 1 Axes>"
            ]
          },
          "metadata": {
            "tags": [],
            "needs_background": "light"
          }
        },
        {
          "output_type": "display_data",
          "data": {
            "image/png": "[encoded data removed]",
            "text/plain": [
              "<Figure size 432x288 with 1 Axes>"
            ]
          },
          "metadata": {
            "tags": [],
            "needs_background": "light"
          }
        },
        {
          "output_type": "display_data",
          "data": {
            "image/png": "[encoded data removed]",
            "text/plain": [
              "<Figure size 432x288 with 1 Axes>"
            ]
          },
          "metadata": {
            "tags": [],
            "needs_background": "light"
          }
        }
      ]
    },
    {
      "cell_type": "code",
      "metadata": {
        "id": "Ec4dAFAV27I8",
        "colab_type": "code",
        "colab": {},
        "outputId": "aad2f5ea-6f26-4c66-cc17-31b84b68632c"
      },
      "source": [
        "print(max(running_average_reward))\n",
        "print(running_average_reward[-1])"
      ],
      "execution_count": 0,
      "outputs": [
        {
          "output_type": "stream",
          "text": [
            "200.0\n",
            "200.0\n"
          ],
          "name": "stdout"
        }
      ]
    },
    {
      "cell_type": "markdown",
      "metadata": {
        "colab_type": "text",
        "id": "t4bMXaUdfmOX"
      },
      "source": [
        "**Q3b (10 pts)** In the writeup explain how your process for tuning hyperparameters as well as what your final hyperparamters are."
      ]
    },
    {
      "cell_type": "markdown",
      "metadata": {
        "colab_type": "text",
        "id": "vNlEf9ZSfwBv"
      },
      "source": [
        "**Q3c (10 pts)** Remember how in step 4 of the learn function you detached the output from the previous step? Try not detaching it instead. Report the new loss / reward curves in the writeup. Also in your writeup, intuitively explain why this occurs / why it is therefore necessary to detach the output."
      ]
    },
    {
      "cell_type": "code",
      "metadata": {
        "id": "VD6sajRm27JD",
        "colab_type": "code",
        "colab": {}
      },
      "source": [
        "from torch.autograd import Variable\n",
        "def learn_without_detach(memory):\n",
        "  if len(memory) < batch_size: return\n",
        "  replays = memory.sample(batch_size)\n",
        "  i = 0\n",
        "  Q_t, expected_reward = torch.zeros(batch_size), []\n",
        "  for state, action, next_state, reward, done in replays:\n",
        "       if done:\n",
        "            expected_reward.append(reward)\n",
        "       else:\n",
        "            q_next = policy_net(torch.tensor(next_state))\n",
        "            expected_reward.append(reward + gamma * torch.max(q_next).item())\n",
        "       Q_t[i] = policy_net(torch.tensor(state))[action]\n",
        "       i += 1\n",
        "  \n",
        "  Q_next = Variable(torch.tensor(expected_reward))\n",
        "  loss = calculate_loss(Q_t, Q_next)\n",
        "  optimizer.zero_grad()\n",
        "  loss.backward()\n",
        "  for param in policy_net.parameters():\n",
        "      param.grad.data.clamp_(-1, 1)\n",
        "  optimizer.step()  \n",
        "  \n",
        "  return loss.item()"
      ],
      "execution_count": 0,
      "outputs": []
    },
    {
      "cell_type": "code",
      "metadata": {
        "id": "0JN7ZgfE27JF",
        "colab_type": "code",
        "colab": {}
      },
      "source": [
        "def run_episode_without_detach(env, epsilon, episode):\n",
        "  \"\"\" Method that runs a single episode of the CartPole problem. Feel free to\n",
        "      modify the method header as you like. \n",
        "  \"\"\"\n",
        "  state = env.reset()\n",
        "  rewards, losses, iterations = 0, 0, 0\n",
        "  while True:\n",
        "        env.render(mode='rgb_array')\n",
        "        q_values = policy_net(torch.tensor(state).float()).detach()\n",
        "        action = epsilon_greedy_action(q_values, epsilon)\n",
        "        next_state, reward, done, _ = env.step(np.array(action.item())) \n",
        "        rewards += reward\n",
        "        iterations += 1\n",
        "        reward = reward if not done else -reward \n",
        "\n",
        "        cool_video.add_frame(env, episode)\n",
        "        memory.push(tuple([state, action, next_state, reward, done]))\n",
        "        state = next_state\n",
        "        loss = learn_without_detach(memory)\n",
        "        losses += loss if loss else 0\n",
        "        cool_video.done(rewards)\n",
        "        if done: break\n",
        "\n",
        "  return rewards, losses/iterations, iterations"
      ],
      "execution_count": 0,
      "outputs": []
    },
    {
      "cell_type": "code",
      "metadata": {
        "colab_type": "code",
        "id": "1Nj_OCTsd8cB",
        "outputId": "e01b0d85-5ee1-4599-ddcd-78eed753ed9f",
        "colab": {
          "base_uri": "https://localhost:8080/",
          "height": 201
        }
      },
      "source": [
        "import numpy as np\n",
        "batch_size = 32\n",
        "episodes = 100 \n",
        "gamma = 0.9\n",
        "all_rewards_without_detach, all_losses_without_detach = [], []\n",
        "for episode in range(episodes):\n",
        "      epsilon = 0.3/np.sqrt(episode+1)\n",
        "      rewards, losses, iterations = run_episode_without_detach(env, epsilon, episode)\n",
        "      all_rewards_without_detach.append(rewards)\n",
        "      all_losses_without_detach.append(losses)\n",
        "      if episode % 10 == 0:\n",
        "            print(\"episode: {:2d}, iteration: {:2d}, epsilon: {:.4f}, average reward: {:.4f}\".format(episode, iterations, epsilon, np.array(all_rewards_without_detach[max(0, episode-9):(episode+1)]).mean()))\n",
        "            if np.array(all_rewards_without_detach[max(0, episode-9):(episode+1)]).mean() >= 200: break\n"
      ],
      "execution_count": 0,
      "outputs": [
        {
          "output_type": "stream",
          "text": [
            "episode:  0, iteration: 21, epsilon: 0.3000, average reward: 21.0000\n",
            "episode: 10, iteration:  9, epsilon: 0.0905, average reward: 10.6000\n",
            "episode: 20, iteration: 10, epsilon: 0.0655, average reward: 12.3000\n",
            "episode: 30, iteration: 34, epsilon: 0.0539, average reward: 16.2000\n",
            "episode: 40, iteration: 70, epsilon: 0.0469, average reward: 56.3000\n",
            "episode: 50, iteration: 200, epsilon: 0.0420, average reward: 190.0000\n",
            "episode: 60, iteration: 175, epsilon: 0.0384, average reward: 197.5000\n",
            "episode: 70, iteration: 200, epsilon: 0.0356, average reward: 187.9000\n",
            "episode: 80, iteration: 192, epsilon: 0.0333, average reward: 193.4000\n",
            "episode: 90, iteration: 200, epsilon: 0.0314, average reward: 195.6000\n"
          ],
          "name": "stdout"
        }
      ]
    },
    {
      "cell_type": "code",
      "metadata": {
        "id": "aoUDabYG27JM",
        "colab_type": "code",
        "colab": {},
        "outputId": "804e108e-8f86-4f6f-b854-96a159292a58"
      },
      "source": [
        "plt.plot(all_losses_without_detach)\n",
        "plt.title('loss (without detach)')\n",
        "plt.xlabel('episode')\n",
        "plt.ylabel('loss')\n",
        "plt.show()\n",
        "plt.plot(all_rewards_without_detach)\n",
        "plt.title('rewards (without detach)')\n",
        "plt.xlabel('episode')\n",
        "plt.ylabel('rewards')\n",
        "plt.show()"
      ],
      "execution_count": 0,
      "outputs": [
        {
          "output_type": "display_data",
          "data": {
            "image/png": "[encoded data removed]",
            "text/plain": [
              "<Figure size 432x288 with 1 Axes>"
            ]
          },
          "metadata": {
            "tags": [],
            "needs_background": "light"
          }
        },
        {
          "output_type": "display_data",
          "data": {
            "image/png": "[encoded data removed]",
            "text/plain": [
              "<Figure size 432x288 with 1 Axes>"
            ]
          },
          "metadata": {
            "tags": [],
            "needs_background": "light"
          }
        }
      ]
    },
    {
      "cell_type": "markdown",
      "metadata": {
        "colab_type": "text",
        "id": "8VWkoQDpgHp-"
      },
      "source": [
        "## Generate a Really Cool Video \n",
        "\n",
        "This is completely optional, but in this section we provide some code so you can generate a really cool video that shows your CartPole learning over time! Show the video so you can brag to your friends and convince them to take CIS 522 next year! "
      ]
    },
    {
      "cell_type": "code",
      "metadata": {
        "colab_type": "code",
        "id": "uxDwoseMgssh",
        "colab": {}
      },
      "source": [
        "import matplotlib.pyplot as plt\n",
        "import cv2\n",
        "\n",
        "class CoolVideo:\n",
        "  \"\"\" Use this class to generate a cool video that shows your training progress over time!\n",
        "      Use it to debug, brag, whatever you feel like. Each time you get a higher total reward\n",
        "      it keeps the associated frames in the output video.\n",
        "  \"\"\"\n",
        "  def __init__(self):\n",
        "    self.curr_episode_buffer = []\n",
        "    self.full_video_buffer = []\n",
        "    self.max_reward = 0\n",
        "\n",
        "  def add_frame(self, env, episode):\n",
        "    frame = env.render(mode='rgb_array')\n",
        "    font = cv2.FONT_HERSHEY_SIMPLEX\n",
        "    frame = cv2.putText(np.float32(frame), f'Episode: {episode}',(50,350), font, .5,(0,0,0),1)\n",
        "    frame = cv2.putText(np.float32(frame), f'Reward: {len(self.curr_episode_buffer) + 1}',(150,350), font, .5,(0,0,0),1)\n",
        "    self.curr_episode_buffer.append(np.float32(frame))\n",
        "    # TODO: Add the text for episode + step\n",
        "    pass\n",
        "  def done(self, total_reward):\n",
        "    if total_reward > self.max_reward:\n",
        "      self.max_reward = total_reward\n",
        "      self.full_video_buffer.extend(self.curr_episode_buffer)\n",
        "    self.curr_episode_buffer = []\n",
        "\n",
        "  def generate_video_at_path(self, path):\n",
        "    # NOTE: Filename at end of path must end in .avi\n",
        "    all_frames = self.full_video_buffer\n",
        "\n",
        "    framerate = 30\n",
        "    fourcc = cv2.VideoWriter_fourcc(*'MJPG')\n",
        "    frame_shape = (400, 600)\n",
        "    video_writer = cv2.VideoWriter(path, fourcc, framerate, (frame_shape[1], frame_shape[0]), True)\n",
        "\n",
        "    for frame in all_frames:\n",
        "      video_writer.write(frame)\n",
        "\n",
        "    video_writer.release()\n",
        "\n",
        "cool_video = CoolVideo()"
      ],
      "execution_count": 0,
      "outputs": []
    },
    {
      "cell_type": "markdown",
      "metadata": {
        "colab_type": "text",
        "id": "DW6xA0ZCgtBN"
      },
      "source": [
        "On a side note -- on behalf of all the staff we just want to thank all of you so much for being incredible students! We're being serious in saying that we've learned from all of you as much as you've learned from us. Be sure to keep in touch with the TAs and Dr. Kording -- we'd love to hear what you're up to in the future! Also if you end up making billions of dollars with your super cool unicorn Deep Learning startup, don't forget to remember where it all started ;) JK but it really has been a pleasure teaching all of you!"
      ]
    },
    {
      "cell_type": "markdown",
      "metadata": {
        "colab_type": "text",
        "id": "I0rcW-WsJu8x"
      },
      "source": [
        "# Submission Instructions\n",
        "\n",
        "The deadline for all parts of this assignment is **April 25, 2020 at 11:59pm**.\n",
        "\n",
        "There are two submissions on Gradescope:\n",
        "*   HW5 - Reinforcement Learning (Writeup)\n",
        "*   HW5 - Reinforcement learning (Programming)\n",
        "\n",
        "For *HW5 - Reinforcement Learning (Writeup)* submit your written responses to the questions above as the file **\"522_HW5_writeup.pdf\"**\n",
        "\n",
        "For *HW5 - Reinforcement Learning (Programming)* submit this notebook with the title **\"522_HW5_notebook.ipynb\"**\n",
        "\n",
        "**Autograder:** As mentioned earlier, there's no autograder for this homework -- all of it will be graded manually! "
      ]
    }
  ]
}