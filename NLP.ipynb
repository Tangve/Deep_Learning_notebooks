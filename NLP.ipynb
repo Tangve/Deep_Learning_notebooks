{
  "nbformat": 4,
  "nbformat_minor": 0,
  "metadata": {
    "colab": {
      "name": "Copy of 522_HW4_Notebook.ipynb",
      "provenance": [],
      "collapsed_sections": [],
      "machine_shape": "hm"
    },
    "kernelspec": {
      "name": "python3",
      "display_name": "Python 3"
    },
    "accelerator": "GPU"
  },
  "cells": [
    {
      "cell_type": "markdown",
      "metadata": {
        "id": "EgTwAx8CjOjD",
        "colab_type": "text"
      },
      "source": [
        "# Homework 4: Natural Language Processing\n",
        "\n",
        "**Overview**: In this homework you will be working with the Amazon Reviews Dataset. This dataset contains hundreds of thousands of reviews, each with it's raw text, it's summary and a score from 1-5 on the rating corresponding to the review. In this assignment you will be creating a multitude of discriminative models to classify the rating from the text of the review, from simple non-deep learning baseline approaches to creating multiple different deep recurrent neural networks, using attention and transfer learning to boost classfication accuracy. Past that, you will create a generative model to generate summaries of a given review from scratch!\n",
        "\n",
        "\n",
        "**Collaboration Policy:** This homework assignment is meant to be done in **groups of 2**. You may work on this individually, but be warned that this homework assignment is long and will be difficult to do alone. We highly recommend you form groups. Since this is a group assignment, please read over the collaboration policy again, posted [here](https://www.seas.upenn.edu/~cis522/syllabus.html).\n",
        "\n"
      ]
    },
    {
      "cell_type": "markdown",
      "metadata": {
        "id": "_quAcbykbovr",
        "colab_type": "text"
      },
      "source": [
        "# Q0. Setting up (0 pts)"
      ]
    },
    {
      "cell_type": "markdown",
      "metadata": {
        "id": "WXOqwYaxb1pb",
        "colab_type": "text"
      },
      "source": [
        "## Connect to Google Drive\n",
        "\n",
        "Run the code snippet below to connect to Google Drive."
      ]
    },
    {
      "cell_type": "code",
      "metadata": {
        "id": "4U4mGdLjKyAh",
        "colab_type": "code",
        "outputId": "37510062-7fa3-4317-b004-87005e4bebcb",
        "colab": {
          "base_uri": "https://localhost:8080/",
          "height": 129
        }
      },
      "source": [
        "from google.colab import drive\n",
        "drive.mount('/content/drive')"
      ],
      "execution_count": 0,
      "outputs": [
        {
          "output_type": "stream",
          "text": [
            "Go to this URL in a browser: https://accounts.google.com/o/oauth2/auth?client_id=947318989803-6bn6qk8qdgf4n4g3pfee6491hc0brc4i.apps.googleusercontent.com&redirect_uri=urn%3aietf%3awg%3aoauth%3a2.0%3aoob&response_type=code&scope=email%20https%3a%2f%2fwww.googleapis.com%2fauth%2fdocs.test%20https%3a%2f%2fwww.googleapis.com%2fauth%2fdrive%20https%3a%2f%2fwww.googleapis.com%2fauth%2fdrive.photos.readonly%20https%3a%2f%2fwww.googleapis.com%2fauth%2fpeopleapi.readonly\n",
            "\n",
            "Enter your authorization code:\n",
            "··········\n",
            "Mounted at /content/drive\n"
          ],
          "name": "stdout"
        }
      ]
    },
    {
      "cell_type": "markdown",
      "metadata": {
        "id": "7RrmCRctbxHm",
        "colab_type": "text"
      },
      "source": [
        "## Utility Functions\n",
        "\n",
        "The function below is a utility function for plotting Confusion Matrices. We highly recommend that you use it for your analysis, but if you have an easier way of plotting confusion matrices / would like to do it yourself, feel free to do so instead."
      ]
    },
    {
      "cell_type": "code",
      "metadata": {
        "id": "s6cqwvlKbmW1",
        "colab_type": "code",
        "colab": {}
      },
      "source": [
        "from textwrap import wrap\n",
        "import re\n",
        "import itertools\n",
        "import matplotlib\n",
        "import numpy as np\n",
        "from sklearn.metrics import confusion_matrix\n",
        "\n",
        "\n",
        "# Credits - https://stackoverflow.com/questions/41617463/tensorflow-confusion-matrix-in-tensorboard\n",
        "def plot_confusion_matrix(correct_labels, predict_labels, labels, display_labels, title='Confusion matrix', tensor_name = 'MyFigure/image', normalize=False):\n",
        "  ''' \n",
        "  Parameters:\n",
        "      correct_labels           : These are your true classification categories.\n",
        "      predict_labels           : These are you predicted classification categories\n",
        "      labels               : This is a lit of labels which will be used to display the axis labels\n",
        "      title='Confusion matrix'        : Title for your matrix\n",
        "      tensor_name = 'MyFigure/image'  : Name for the output summay tensor\n",
        "\n",
        "  Returns:\n",
        "      summary: TensorFlow summary \n",
        "\n",
        "  Other items to note:\n",
        "      - Depending on the number of category and the data , you may have to modify the figzie, font sizes etc. \n",
        "      - Currently, some of the ticks dont line up due to rotations.\n",
        "  '''\n",
        "  cm = confusion_matrix(correct_labels, predict_labels, labels=labels)\n",
        "  if normalize:\n",
        "      cm = cm.astype('float')*10 / cm.sum(axis=1)[:, np.newaxis]\n",
        "      cm = np.nan_to_num(cm, copy=True)\n",
        "      cm = cm.astype('int')\n",
        "\n",
        "  np.set_printoptions(precision=2)\n",
        "  ###fig, ax = matplotlib.figure.Figure()\n",
        "\n",
        "  fig = matplotlib.pyplot.figure(figsize=(2, 2), dpi=320, facecolor='w', edgecolor='k')\n",
        "  ax = fig.add_subplot(1, 1, 1)\n",
        "  im = ax.imshow(cm, cmap='Oranges')\n",
        "\n",
        "  classes = [re.sub(r'([a-z](?=[A-Z])|[A-Z](?=[A-Z][a-z]))', r'\\1 ', x) for x in display_labels]\n",
        "  classes = ['\\n'.join(wrap(l, 40)) for l in classes]\n",
        "\n",
        "  tick_marks = np.arange(len(classes))\n",
        "\n",
        "  ax.set_xlabel('Predicted', fontsize=7)\n",
        "  ax.set_xticks(tick_marks)\n",
        "  c = ax.set_xticklabels(classes, fontsize=4, rotation=-90,  ha='center')\n",
        "  ax.xaxis.set_label_position('bottom')\n",
        "  ax.xaxis.tick_bottom()\n",
        "\n",
        "  ax.set_ylabel('True Label', fontsize=7)\n",
        "  ax.set_yticks(tick_marks)\n",
        "  ax.set_yticklabels(classes, fontsize=4, va ='center')\n",
        "  ax.yaxis.set_label_position('left')\n",
        "  ax.yaxis.tick_left()\n",
        "\n",
        "  for i, j in itertools.product(range(cm.shape[0]), range(cm.shape[1])):\n",
        "      ax.text(j, i, format(cm[i, j], 'd') if cm[i,j]!=0 else '.', horizontalalignment=\"center\", fontsize=6, verticalalignment='center', color= \"black\")\n",
        "  fig.set_tight_layout(True)\n",
        "  matplotlib.pyplot.show()\n",
        "\n",
        "  return"
      ],
      "execution_count": 0,
      "outputs": []
    },
    {
      "cell_type": "markdown",
      "metadata": {
        "id": "EB5fWc_mbEin",
        "colab_type": "text"
      },
      "source": [
        "### Test Infrastructure\n",
        "\n",
        "Run the two code snippets below to instantiate our infrastructure for this assignment."
      ]
    },
    {
      "cell_type": "code",
      "metadata": {
        "id": "GIvOcEWZbJ71",
        "colab_type": "code",
        "outputId": "12fce65a-4d41-4dea-e75d-99b034d15138",
        "colab": {
          "base_uri": "https://localhost:8080/",
          "height": 127
        }
      },
      "source": [
        "import os\n",
        "import dill\n",
        "import pandas as pd\n",
        "\n",
        "repo_path = \"/content/Homework4_Resources/test_release.csv\"\n",
        "\n",
        "if not os.path.isdir(repo_path):\n",
        "  !git clone https://github.com/CIS522/Homework4_Resources.git\n",
        "\n",
        "def generate_test_predictions(generate_predictions_func):\n",
        "  return generate_predictions_func(repo_path)"
      ],
      "execution_count": 0,
      "outputs": [
        {
          "output_type": "stream",
          "text": [
            "Cloning into 'Homework4_Resources'...\n",
            "remote: Enumerating objects: 6, done.\u001b[K\n",
            "remote: Counting objects: 100% (6/6), done.\u001b[K\n",
            "remote: Compressing objects: 100% (5/5), done.\u001b[K\n",
            "remote: Total 15 (delta 1), reused 5 (delta 1), pack-reused 9\u001b[K\n",
            "Unpacking objects: 100% (15/15), done.\n"
          ],
          "name": "stdout"
        }
      ]
    },
    {
      "cell_type": "code",
      "metadata": {
        "id": "SyCeI-4CofEs",
        "colab_type": "code",
        "colab": {}
      },
      "source": [
        "test_case_1b        = None\n",
        "test_case_1c        = None\n",
        "test_case_3e_rnn      = None\n",
        "test_case_3e_lstm      = None\n",
        "test_case_3e_gru      = None\n",
        "test_case_3e_bilstm     = None\n",
        "test_case_4e        = None\n",
        "test_case_5b        = None"
      ],
      "execution_count": 0,
      "outputs": []
    },
    {
      "cell_type": "markdown",
      "metadata": {
        "id": "B-QVV6DT00si",
        "colab_type": "text"
      },
      "source": [
        "# Data Loading and Pre-processing\n",
        "\n",
        "In this assignment, you'll be working with the Amazon Reviews Dataset. We've provided you with the train / validate splits. In the code cell below, load in the splits using Pandas."
      ]
    },
    {
      "cell_type": "markdown",
      "metadata": {
        "id": "8JgTtS4ne8Sx",
        "colab_type": "text"
      },
      "source": [
        "## Load Splits"
      ]
    },
    {
      "cell_type": "code",
      "metadata": {
        "id": "ohhAVjDQfwpl",
        "colab_type": "code",
        "colab": {}
      },
      "source": [
        "import pandas as pd\n",
        "import numpy as np\n",
        "from sklearn.metrics import f1_score\n",
        "from sklearn.linear_model import LogisticRegression\n",
        "from sklearn.model_selection import train_test_split"
      ],
      "execution_count": 0,
      "outputs": []
    },
    {
      "cell_type": "code",
      "metadata": {
        "id": "UUGfU3d2e7qe",
        "colab_type": "code",
        "colab": {}
      },
      "source": [
        "# TODO: INSERT CODE HERE\n",
        "root_path = '/content/drive/My Drive/CIS522 Homeworks/HW4/'\n",
        "train = pd.read_csv(root_path + 'train.csv')\n",
        "val = pd.read_csv(root_path + 'val.csv')"
      ],
      "execution_count": 0,
      "outputs": []
    },
    {
      "cell_type": "markdown",
      "metadata": {
        "id": "fgxaUXU04IAa",
        "colab_type": "text"
      },
      "source": [
        "# Q1. Baseline (15 pts)\n",
        "\n",
        "For any deep learning task, it's good to have a baseline approach to compare against so you can determine if your deep learning approach is truly doing anything extraordinary, or in some cases, is even worse than simpler approaches. In this question we will have you implement a very simple baseline approach for classifying Amazon Reviews.\n",
        "\n",
        "**Baselines** You will be implementing two simple baseline approaches:\n",
        "\n",
        "*Approach 1:* For each sentence, process each word individually and note whether it is positive or negative. You will calculate the ratio of positive words to positive + negative words in the sentence, and threshold it to get a prediction between 1-5 of the review's star rating. \n",
        "\n",
        "*Approach 2:* In this approach you will feed in the number of positive and negative words in each sentence into a logistic regression classifier to get a classification between 1-5.\n",
        "\n"
      ]
    },
    {
      "cell_type": "markdown",
      "metadata": {
        "id": "J9bX0WbW4cyb",
        "colab_type": "text"
      },
      "source": [
        "## Q1a Processing the Data\n",
        "\n",
        "Before implementing the baselines, you must first process the data! Look through the Amazon Reviews dataset and consider the headers. For this question, all you will need are the \"Text\" and \"Score\" fields. \n",
        "\n",
        "Before we process the data, we must note two things:\n",
        "\n",
        "**How do we get the connotation?** To determine if a word has a \"positive\" or a \"negative\" connotation we will be using the [MPQA subjectivity lexicon](https://mpqa.cs.pitt.edu/lexicons/subj_lexicon/) (which we've provided to you as a .tff file in this assignment). If you open the .tff file in a text editor, you'll see that each line has the word, preceded by \"word1=\" and a polarity of the form \"priorpolarity=negative\" for a negatively connoted word for instance. You should parse the tff file to create a dictionary that goes from word to it's polarity (positive or negative)\n",
        "\n",
        "**How do we handle different forms of words?** In this tff file, we note that there's a lot of words, but how do we account for different forms of words? For instance, how do we account for the plural form of a noun, or a different conjugation of a verb? In NLP it is very common to account for this by \"lemmatizing\" a word, which essentially means to convert words to a \"base\" form so they can be analyzed more easily. In this classification task, this is useful since we don't care about how a word is conjugated, just what the connotation of a word is.\n",
        "\n",
        "**Q1a (1 pts):** In this question, create a dictionary from the .tff file such that the keys are the lemmatized forms of the word, and the value is the polarity of the word (if the word is positive, let its value be 1, if it's negative let it be 0). We've initialized NLTK and specifically the lemmatizer for you below. Do ```lemmatizer.lemmatize(word)``` to lemmatize a specific word. In your writeup, give three examples of words which are different than their lemmatized forms (i.e. are not the exact same text).\n",
        "\n"
      ]
    },
    {
      "cell_type": "code",
      "metadata": {
        "id": "6lAUzrM04M74",
        "colab_type": "code",
        "outputId": "62c33a31-223c-4275-902f-3e2a7dc21e0f",
        "colab": {
          "base_uri": "https://localhost:8080/",
          "height": 90
        }
      },
      "source": [
        "import nltk\n",
        "from nltk.stem import WordNetLemmatizer \n",
        "nltk.download('wordnet')\n",
        "nltk.download('punkt') # Download this as this allows you to tokenize words in a string.\n",
        "lemmatizer = WordNetLemmatizer()"
      ],
      "execution_count": 0,
      "outputs": [
        {
          "output_type": "stream",
          "text": [
            "[nltk_data] Downloading package wordnet to /root/nltk_data...\n",
            "[nltk_data]   Unzipping corpora/wordnet.zip.\n",
            "[nltk_data] Downloading package punkt to /root/nltk_data...\n",
            "[nltk_data]   Unzipping tokenizers/punkt.zip.\n"
          ],
          "name": "stdout"
        }
      ]
    },
    {
      "cell_type": "code",
      "metadata": {
        "id": "EnokvuHhxQrS",
        "colab_type": "code",
        "colab": {}
      },
      "source": [
        "with open (root_path+'MPQA_Subjectivity_Lexicon.tff', 'r') as file:\n",
        "  f = file.readlines()\n",
        "\n",
        "polarity = {}\n",
        "example = {}\n",
        "for i,s in enumerate(f):\n",
        "  start1, start2 = s.find('word1=')+6, s.find('priorpolarity=')+14\n",
        "  len1, len2 = s[start1:].find(' '), s[start2:].find('\\n')\n",
        "  word, pol = s[start1:start1+len1], s[start2:start2+len2]\n",
        "  lem = lemmatizer.lemmatize(word)\n",
        "  if lem != word: example[word] = lem\n",
        "  polarity[lem] = int(pol=='positive')"
      ],
      "execution_count": 0,
      "outputs": []
    },
    {
      "cell_type": "code",
      "metadata": {
        "id": "gbQ4zMD7Z2Dh",
        "colab_type": "code",
        "outputId": "a1fa1334-5bec-4159-aeab-d7c5fdd05b44",
        "colab": {
          "base_uri": "https://localhost:8080/",
          "height": 1000
        }
      },
      "source": [
        "example"
      ],
      "execution_count": 0,
      "outputs": [
        {
          "output_type": "execute_result",
          "data": {
            "text/plain": [
              "{'abilities': 'ability',\n",
              " 'abuses': 'abuse',\n",
              " 'accolades': 'accolade',\n",
              " 'accomplishments': 'accomplishment',\n",
              " 'accusations': 'accusation',\n",
              " 'achievements': 'achievement',\n",
              " 'adolescents': 'adolescent',\n",
              " 'advantages': 'advantage',\n",
              " 'agonies': 'agony',\n",
              " 'airs': 'air',\n",
              " 'alas': 'ala',\n",
              " 'allegations': 'allegation',\n",
              " 'alliances': 'alliance',\n",
              " 'allusions': 'allusion',\n",
              " 'anxieties': 'anxiety',\n",
              " 'apologists': 'apologist',\n",
              " 'apprehensions': 'apprehension',\n",
              " 'arguments': 'argument',\n",
              " 'aspersions': 'aspersion',\n",
              " 'aspirations': 'aspiration',\n",
              " 'assertions': 'assertion',\n",
              " 'assess': 'ass',\n",
              " 'assessments': 'assessment',\n",
              " 'assurances': 'assurance',\n",
              " 'atrocities': 'atrocity',\n",
              " 'attitudes': 'attitude',\n",
              " 'batons': 'baton',\n",
              " 'beliefs': 'belief',\n",
              " 'benefits': 'benefit',\n",
              " 'betrayals': 'betrayal',\n",
              " 'biases': 'bias',\n",
              " 'blunders': 'blunder',\n",
              " 'brains': 'brain',\n",
              " 'breakthroughs': 'breakthrough',\n",
              " 'brutalities': 'brutality',\n",
              " 'bullies': 'bully',\n",
              " 'calamities': 'calamity',\n",
              " 'calumnies': 'calumny',\n",
              " 'catastrophes': 'catastrophe',\n",
              " 'complaints': 'complaint',\n",
              " 'compromises': 'compromise',\n",
              " 'comrades': 'comrade',\n",
              " 'concerns': 'concern',\n",
              " 'concessions': 'concession',\n",
              " 'condolences': 'condolence',\n",
              " 'confessions': 'confession',\n",
              " 'congratulations': 'congratulation',\n",
              " 'conspiracies': 'conspiracy',\n",
              " 'constitutions': 'constitution',\n",
              " 'contortions': 'contortion',\n",
              " 'criticisms': 'criticism',\n",
              " 'critics': 'critic',\n",
              " 'cruelties': 'cruelty',\n",
              " 'curses': 'curse',\n",
              " 'deceivers': 'deceiver',\n",
              " 'defamations': 'defamation',\n",
              " 'delusions': 'delusion',\n",
              " 'demands': 'demand',\n",
              " 'denunciations': 'denunciation',\n",
              " 'destinies': 'destiny',\n",
              " 'diatribes': 'diatribe',\n",
              " 'difficulties': 'difficulty',\n",
              " 'dissidents': 'dissident',\n",
              " 'doubts': 'doubt',\n",
              " 'dragons': 'dragon',\n",
              " 'dreams': 'dream',\n",
              " 'drones': 'drone',\n",
              " 'dungeons': 'dungeon',\n",
              " 'ecstasies': 'ecstasy',\n",
              " 'emotions': 'emotion',\n",
              " 'enemies': 'enemy',\n",
              " 'enormities': 'enormity',\n",
              " 'evils': 'evil',\n",
              " 'excuses': 'excuse',\n",
              " 'expediencies': 'expediency',\n",
              " 'expressions': 'expression',\n",
              " 'extremists': 'extremist',\n",
              " 'eyebrows': 'eyebrow',\n",
              " 'facts': 'fact',\n",
              " 'failures': 'failure',\n",
              " 'fallacies': 'fallacy',\n",
              " 'fanatics': 'fanatic',\n",
              " 'fears': 'fear',\n",
              " 'feelings': 'feeling',\n",
              " 'feels': 'feel',\n",
              " 'fissures': 'fissure',\n",
              " 'flaws': 'flaw',\n",
              " 'freedoms': 'freedom',\n",
              " 'frictions': 'friction',\n",
              " 'friends': 'friend',\n",
              " 'gems': 'gem',\n",
              " 'gestures': 'gesture',\n",
              " 'giants': 'giant',\n",
              " 'grievances': 'grievance',\n",
              " 'grudges': 'grudge',\n",
              " 'harbors': 'harbor',\n",
              " 'hardliners': 'hardliner',\n",
              " 'hardships': 'hardship',\n",
              " 'harms': 'harm',\n",
              " 'headaches': 'headache',\n",
              " 'heros': 'hero',\n",
              " 'hopes': 'hope',\n",
              " 'horrors': 'horror',\n",
              " 'hostilities': 'hostility',\n",
              " 'hotbeds': 'hotbed',\n",
              " 'humanists': 'humanist',\n",
              " 'hypocrites': 'hypocrite',\n",
              " 'hysterics': 'hysteric',\n",
              " 'idiocies': 'idiocy',\n",
              " 'idiots': 'idiot',\n",
              " 'illusions': 'illusion',\n",
              " 'impressions': 'impression',\n",
              " 'inaccuracies': 'inaccuracy',\n",
              " 'inclinations': 'inclination',\n",
              " 'inconsistencies': 'inconsistency',\n",
              " 'inequalities': 'inequality',\n",
              " 'inequities': 'inequity',\n",
              " 'infidels': 'infidel',\n",
              " 'infiltrators': 'infiltrator',\n",
              " 'infringements': 'infringement',\n",
              " 'injustices': 'injustice',\n",
              " 'inklings': 'inkling',\n",
              " 'insights': 'insight',\n",
              " 'instigators': 'instigator',\n",
              " 'intentions': 'intention',\n",
              " 'intents': 'intent',\n",
              " 'interests': 'interest',\n",
              " 'ironies': 'irony',\n",
              " 'jeers': 'jeer',\n",
              " 'judgements': 'judgement',\n",
              " 'judgments': 'judgment',\n",
              " 'lackeys': 'lackey',\n",
              " 'legacies': 'legacy',\n",
              " 'less': 'le',\n",
              " 'liars': 'liar',\n",
              " 'lies': 'lie',\n",
              " 'loopholes': 'loophole',\n",
              " 'manipulators': 'manipulator',\n",
              " 'marvels': 'marvel',\n",
              " 'massacres': 'massacre',\n",
              " 'masterpieces': 'masterpiece',\n",
              " 'masters': 'master',\n",
              " 'memories': 'memory',\n",
              " 'miracles': 'miracle',\n",
              " 'misconceptions': 'misconception',\n",
              " 'miscreants': 'miscreant',\n",
              " 'miseries': 'misery',\n",
              " 'misgivings': 'misgiving',\n",
              " 'mistakes': 'mistake',\n",
              " 'misunderstandings': 'misunderstanding',\n",
              " 'mockeries': 'mockery',\n",
              " 'monstrosities': 'monstrosity',\n",
              " 'needless': 'needle',\n",
              " 'needs': 'need',\n",
              " 'nuances': 'nuance',\n",
              " 'objections': 'objection',\n",
              " 'obsess': 'ob',\n",
              " 'obsessions': 'obsession',\n",
              " 'oddities': 'oddity',\n",
              " 'offenses': 'offense',\n",
              " 'opinions': 'opinion',\n",
              " 'oppositions': 'opposition',\n",
              " 'oppressors': 'oppressor',\n",
              " 'outbursts': 'outburst',\n",
              " 'outrages': 'outrage',\n",
              " 'overstatements': 'overstatement',\n",
              " 'overtures': 'overture',\n",
              " 'pacifists': 'pacifist',\n",
              " 'pains': 'pain',\n",
              " 'partisans': 'partisan',\n",
              " 'paupers': 'pauper',\n",
              " 'peacekeepers': 'peacekeeper',\n",
              " 'perceptions': 'perception',\n",
              " 'personages': 'personage',\n",
              " 'pleas': 'plea',\n",
              " 'pledges': 'pledge',\n",
              " 'plotters': 'plotter',\n",
              " 'polluters': 'polluter',\n",
              " 'precautions': 'precaution',\n",
              " 'preferences': 'preference',\n",
              " 'pressures': 'pressure',\n",
              " 'prickles': 'prickle',\n",
              " 'problems': 'problem',\n",
              " 'proscriptions': 'proscription',\n",
              " 'prospects': 'prospect',\n",
              " 'protests': 'protest',\n",
              " 'pundits': 'pundit',\n",
              " 'puppets': 'puppet',\n",
              " 'qualms': 'qualm',\n",
              " 'quarrels': 'quarrel',\n",
              " 'racists': 'racist',\n",
              " 'radicals': 'radical',\n",
              " 'reactions': 'reaction',\n",
              " 'recommendations': 'recommendation',\n",
              " 'recourses': 'recourse',\n",
              " 'relations': 'relation',\n",
              " 'reservations': 'reservation',\n",
              " 'riches': 'rich',\n",
              " 'rifts': 'rift',\n",
              " 'rights': 'right',\n",
              " 'roadblocks': 'roadblock',\n",
              " 'rumors': 'rumor',\n",
              " 'rumours': 'rumour',\n",
              " 'sass': 'sas',\n",
              " 'savages': 'savage',\n",
              " 'scandals': 'scandal',\n",
              " 'scars': 'scar',\n",
              " 'scruples': 'scruple',\n",
              " 'sensations': 'sensation',\n",
              " 'sentiments': 'sentiment',\n",
              " 'shambles': 'shamble',\n",
              " 'shortcomings': 'shortcoming',\n",
              " 'signals': 'signal',\n",
              " 'skeletons': 'skeleton',\n",
              " 'slanders': 'slander',\n",
              " 'slaves': 'slave',\n",
              " 'stances': 'stance',\n",
              " 'stands': 'stand',\n",
              " 'stars': 'star',\n",
              " 'statements': 'statement',\n",
              " 'stooges': 'stooge',\n",
              " 'strides': 'stride',\n",
              " 'sufferers': 'sufferer',\n",
              " 'suggestions': 'suggestion',\n",
              " 'suspicions': 'suspicion',\n",
              " 'sympathies': 'sympathy',\n",
              " 'taunts': 'taunt',\n",
              " 'threats': 'threat',\n",
              " 'thrills': 'thrill',\n",
              " 'thumbs': 'thumb',\n",
              " 'touches': 'touch',\n",
              " 'travesties': 'travesty',\n",
              " 'twists': 'twist',\n",
              " 'ultimatums': 'ultimatum',\n",
              " 'underlings': 'underling',\n",
              " 'utterances': 'utterance',\n",
              " 'values': 'value',\n",
              " 'vestiges': 'vestige',\n",
              " 'viewpoints': 'viewpoint',\n",
              " 'views': 'view',\n",
              " 'villains': 'villain',\n",
              " 'weaknesses': 'weakness',\n",
              " 'well-wishers': 'well-wisher',\n",
              " 'whips': 'whip',\n",
              " 'wiles': 'wile',\n",
              " 'winners': 'winner',\n",
              " 'wishes': 'wish',\n",
              " 'worries': 'worry',\n",
              " 'wounds': 'wound'}"
            ]
          },
          "metadata": {
            "tags": []
          },
          "execution_count": 32
        }
      ]
    },
    {
      "cell_type": "markdown",
      "metadata": {
        "id": "yv2bNcYACaiy",
        "colab_type": "text"
      },
      "source": [
        "**Thresholding Baseline**\n",
        "\n",
        "Now that you've created this dictionary, go through your training dataset and for each review, compute the following ratio: $$ratio = \\frac{positive}{positive + negative}$$ Where $positive$ is the number of words with positive polarity in the review, and $negative$ is the number of words with negative polarity in the review. \n",
        "\n",
        "**Notes:** You can tokenize the text into individual words by using ```nltk.word_tokenize(text)```. Don't forget to lemmatize each word as well! You can treat any word not in the MPQA subjectivity lexicon as having a neutral sentiment. For the case where $positive + negative = 0$ feel free to handle it however you like (i.e. always have it predict a certain class, etc.). Describe how you handled this in your writeup for **Q1d**.\n",
        "\n",
        "**Q1b (2 pts; 2 pts autograder):** Using the validation set, create a series of thresholds such that you can threshold this ratio to produce your review predictions between 1 and 5. Calculate the F1 score of your predictions versus the ground truth scores (setting average to **macro**). You may use SkLearn to calculate the F1 Score. In your writeup, describe how you chose these thresholds and what the resulting macro average F1 Score is for your training set and validation set."
      ]
    },
    {
      "cell_type": "code",
      "metadata": {
        "id": "i9UnWTuSQibs",
        "colab_type": "code",
        "colab": {}
      },
      "source": [
        "# TODO: INSERT CODE HERE\n",
        "def ratio(s):\n",
        "  '''\n",
        "  compute the ratio of a sentence, i.e. positive/(positive + negative)\n",
        "  '''\n",
        "  s = nltk.word_tokenize(s)\n",
        "  pos, neg = 0, 0\n",
        "  for w in s:\n",
        "    lem = lemmatizer.lemmatize(w)\n",
        "    if lem in polarity: pol = polarity[lem]\n",
        "    else: pol = 0.5\n",
        "    if pol==1: pos += 1\n",
        "    else: neg += 1\n",
        "  if pos+neg == 0: return 0.5\n",
        "  else: return pos/(pos+neg), pos, neg"
      ],
      "execution_count": 0,
      "outputs": []
    },
    {
      "cell_type": "code",
      "metadata": {
        "id": "rN3SkcD28Oup",
        "colab_type": "code",
        "outputId": "85549eb0-96ba-43d9-969f-30f3fec98d3e",
        "colab": {
          "base_uri": "https://localhost:8080/",
          "height": 221
        }
      },
      "source": [
        "# compute the ratio of each review for training set\n",
        "train['Ratio'], train['pos_neg'] = None, None\n",
        "for i in range(len(train)):\n",
        "  ro, pos, neg = ratio(train['Text'][i])\n",
        "  train['Ratio'][i], train['pos_neg'][i] = ro, (pos, neg)\n",
        "\n",
        "# compute the ratio of each review for validation set\n",
        "val['Ratio'], val['pos_neg'] = None, None\n",
        "for i in range(len(val)):\n",
        "  ro, pos, neg = ratio(val['Text'][i])\n",
        "  val['Ratio'][i], val['pos_neg'][i] = ro, (pos, neg)"
      ],
      "execution_count": 0,
      "outputs": [
        {
          "output_type": "stream",
          "text": [
            "/usr/local/lib/python3.6/dist-packages/ipykernel_launcher.py:4: SettingWithCopyWarning: \n",
            "A value is trying to be set on a copy of a slice from a DataFrame\n",
            "\n",
            "See the caveats in the documentation: https://pandas.pydata.org/pandas-docs/stable/user_guide/indexing.html#returning-a-view-versus-a-copy\n",
            "  after removing the cwd from sys.path.\n",
            "/usr/local/lib/python3.6/dist-packages/ipykernel_launcher.py:10: SettingWithCopyWarning: \n",
            "A value is trying to be set on a copy of a slice from a DataFrame\n",
            "\n",
            "See the caveats in the documentation: https://pandas.pydata.org/pandas-docs/stable/user_guide/indexing.html#returning-a-view-versus-a-copy\n",
            "  # Remove the CWD from sys.path while we load stuff.\n"
          ],
          "name": "stderr"
        }
      ]
    },
    {
      "cell_type": "code",
      "metadata": {
        "id": "N4zLYqwe6fW3",
        "colab_type": "code",
        "outputId": "c437e808-fe36-4f49-d558-49dfbdc926f8",
        "colab": {
          "base_uri": "https://localhost:8080/",
          "height": 109
        }
      },
      "source": [
        "# pick the threshhold for 5 scores\n",
        "ratio_at_score_1 = train[train['Score']==1]['Ratio']\n",
        "ratio_at_score_2 = train[train['Score']==2]['Ratio']\n",
        "ratio_at_score_3 = train[train['Score']==3]['Ratio']\n",
        "ratio_at_score_4 = train[train['Score']==4]['Ratio']\n",
        "ratio_at_score_5 = train[train['Score']==5]['Ratio']\n",
        "\n",
        "mean1, min1, max1 = np.mean(ratio_at_score_1), min(ratio_at_score_1), max(ratio_at_score_1)\n",
        "mean2, min2, max2 = np.mean(ratio_at_score_2), min(ratio_at_score_2), max(ratio_at_score_2)\n",
        "mean3, min3, max3 = np.mean(ratio_at_score_3), min(ratio_at_score_3), max(ratio_at_score_3)\n",
        "mean4, min4, max4 = np.mean(ratio_at_score_4), min(ratio_at_score_4), max(ratio_at_score_4)\n",
        "mean5, min5, max5 = np.mean(ratio_at_score_5), min(ratio_at_score_5), max(ratio_at_score_5)\n",
        "print(f'score 1: {mean1}, {min1}, {max1}')\n",
        "print(f'score 2: {mean2}, {min2}, {max2}')\n",
        "print(f'score 3: {mean3}, {min3}, {max3}')\n",
        "print(f'score 4: {mean4}, {min4}, {max4}')\n",
        "print(f'score 5: {mean5}, {min5}, {max5}')\n",
        "\n",
        "thresh12, thresh23, thresh34, thresh45 = np.mean([mean1,mean2]), np.mean([mean2,mean3]), np.mean([mean3,mean4]), np.mean([mean4,mean5])"
      ],
      "execution_count": 0,
      "outputs": [
        {
          "output_type": "stream",
          "text": [
            "score 1: 0.044782446100595376, 0.0, 0.25806451612903225\n",
            "score 2: 0.05259048742877389, 0.0, 0.25\n",
            "score 3: 0.05842466710367438, 0.0, 0.3157894736842105\n",
            "score 4: 0.06882937352990744, 0.0, 0.35\n",
            "score 5: 0.07387895825144376, 0.0, 0.5416666666666666\n"
          ],
          "name": "stdout"
        }
      ]
    },
    {
      "cell_type": "code",
      "metadata": {
        "id": "lqQl1clbga_X",
        "colab_type": "code",
        "colab": {}
      },
      "source": [
        "def classify(v):\n",
        "  '''\n",
        "  Predict score according to the ratio and the threshold\n",
        "  '''\n",
        "  if v <= thresh12: return 1\n",
        "  elif v <= thresh23: return 2\n",
        "  elif v <= thresh34: return 3\n",
        "  elif v <= thresh45: return 4\n",
        "  else: return 5"
      ],
      "execution_count": 0,
      "outputs": []
    },
    {
      "cell_type": "code",
      "metadata": {
        "id": "xbiH_ivdb_jT",
        "colab_type": "code",
        "outputId": "bf833952-ee56-4afe-c9f8-2c6c9b5f75d5",
        "colab": {
          "base_uri": "https://localhost:8080/",
          "height": 221
        }
      },
      "source": [
        "# predict the score for training set\n",
        "train['Predict'] = None\n",
        "for i in range(len(train)):\n",
        "  train['Predict'][i] = classify(train['Ratio'][i])\n",
        "\n",
        "# predict the score for validation set\n",
        "val['Predict'] = None\n",
        "for i in range(len(val)):\n",
        "  val['Predict'][i] = classify(val['Ratio'][i])"
      ],
      "execution_count": 0,
      "outputs": [
        {
          "output_type": "stream",
          "text": [
            "/usr/local/lib/python3.6/dist-packages/ipykernel_launcher.py:3: SettingWithCopyWarning: \n",
            "A value is trying to be set on a copy of a slice from a DataFrame\n",
            "\n",
            "See the caveats in the documentation: https://pandas.pydata.org/pandas-docs/stable/user_guide/indexing.html#returning-a-view-versus-a-copy\n",
            "  This is separate from the ipykernel package so we can avoid doing imports until\n",
            "/usr/local/lib/python3.6/dist-packages/ipykernel_launcher.py:8: SettingWithCopyWarning: \n",
            "A value is trying to be set on a copy of a slice from a DataFrame\n",
            "\n",
            "See the caveats in the documentation: https://pandas.pydata.org/pandas-docs/stable/user_guide/indexing.html#returning-a-view-versus-a-copy\n",
            "  \n"
          ],
          "name": "stderr"
        }
      ]
    },
    {
      "cell_type": "code",
      "metadata": {
        "id": "1-nQ-mp6fieU",
        "colab_type": "code",
        "outputId": "7dcde5df-91f1-44d9-90ad-6a69ab2d91a3",
        "colab": {
          "base_uri": "https://localhost:8080/",
          "height": 50
        }
      },
      "source": [
        "F1_train = f1_score(list(train['Score']), list(train['Predict']), average='macro')\n",
        "F1_val = f1_score(list(val['Score']), list(val['Predict']), average='macro')\n",
        "print('F1-Score for training set: {:.4f} \\nF1-Score for validation set: {:.4f}'.format(F1_train, F1_val))"
      ],
      "execution_count": 0,
      "outputs": [
        {
          "output_type": "stream",
          "text": [
            "F1-Score for training set: 0.2244 \n",
            "F1-Score for validation set: 0.2334\n"
          ],
          "name": "stdout"
        }
      ]
    },
    {
      "cell_type": "markdown",
      "metadata": {
        "id": "1hh97q4LQkKx",
        "colab_type": "text"
      },
      "source": [
        "**Q1c (3 pts; 3pts autograder):** Now, train a logistic regression classifier, where the inputs to the logistic regression classifier are the number of positively and negatively connoted words in the sentence. Tune the hyperparameters using the validation set. Create a test set from the training set, train the logistic regression using the hyperparameters obtained from tuning on the validation set, and then report your test, training, and validation set macro-averaged F1 Scores in your writeup. Discuss how you tuned hyperparameters in your writeup."
      ]
    },
    {
      "cell_type": "code",
      "metadata": {
        "id": "IaksvaIARU5m",
        "colab_type": "code",
        "outputId": "1f45653d-0265-4b2e-bdb2-46f60120dc6d",
        "colab": {
          "base_uri": "https://localhost:8080/",
          "height": 129
        }
      },
      "source": [
        "# TODO: INSERT CODE HERE\n",
        "test_sub, train_sub = train_test_split(train, test_size=0.3)\n",
        "model_lr = LogisticRegression(solver='saga', max_iter=300)\n",
        "model_lr.fit(list(train_sub['pos_neg']), list(train_sub['Score']))\n",
        "\n",
        "F1_train_sub = f1_score(list(train_sub['Score']), model_lr.predict(list(train_sub['pos_neg'])), average='macro')\n",
        "F1_val_sub = f1_score(list(val['Score']), model_lr.predict(list(val['pos_neg'])), average='macro')\n",
        "F1_test_sub = f1_score(list(test_sub['Score']), model_lr.predict(list(test_sub['pos_neg'])), average='macro')\n",
        "print('F1-Score for training set: {:.4f} \\nF1-Score for validation set: {:.4f} \\nF1-Score for test set: {:.4f}'.format(F1_train_sub, F1_val_sub, F1_test_sub))"
      ],
      "execution_count": 0,
      "outputs": [
        {
          "output_type": "stream",
          "text": [
            "/usr/local/lib/python3.6/dist-packages/sklearn/linear_model/_sag.py:330: ConvergenceWarning: The max_iter was reached which means the coef_ did not converge\n",
            "  \"the coef_ did not converge\", ConvergenceWarning)\n"
          ],
          "name": "stderr"
        },
        {
          "output_type": "stream",
          "text": [
            "F1-Score for training set: 0.1759 \n",
            "F1-Score for validation set: 0.0868 \n",
            "F1-Score for test set: 0.1748\n"
          ],
          "name": "stdout"
        }
      ]
    },
    {
      "cell_type": "markdown",
      "metadata": {
        "id": "-Wj75UCqRSO9",
        "colab_type": "text"
      },
      "source": [
        "**Q1d (4 pts):** Compare the results from the logistic regression baseline and the thresholding baseline. Plot a confusion matrix for both and compare the results / put the confusion matrices in the writeup (feel free to use the utility function we provided above)."
      ]
    },
    {
      "cell_type": "code",
      "metadata": {
        "id": "BamUD3SFI7y6",
        "colab_type": "code",
        "outputId": "ec987806-cc6d-49ce-eef8-ca3f19d34310",
        "colab": {
          "base_uri": "https://localhost:8080/",
          "height": 1000
        }
      },
      "source": [
        "plot_confusion_matrix(list(val['Score']), list(val['Predict']), [1,2,3,4,5], ['1','2','3','4','5'], title='Confusion matrix', tensor_name = 'threshholding baseline', normalize=False)\n",
        "plot_confusion_matrix(list(val['Score']), model_lr.predict(list(val['pos_neg'])), [1,2,3,4,5], ['1','2','3','4','5'], title='Confusion matrix', tensor_name = 'logisticregression baseline', normalize=False)"
      ],
      "execution_count": 0,
      "outputs": [
        {
          "output_type": "display_data",
          "data": {
            "image/png": "[encoded data removed]",
            "text/plain": [
              "<Figure size 640x640 with 1 Axes>"
            ]
          },
          "metadata": {
            "tags": []
          }
        },
        {
          "output_type": "display_data",
          "data": {
            "image/png": "[encoded data removed]",
            "text/plain": [
              "<Figure size 640x640 with 1 Axes>"
            ]
          },
          "metadata": {
            "tags": []
          }
        }
      ]
    },
    {
      "cell_type": "markdown",
      "metadata": {
        "id": "GQq4SZAbqn9z",
        "colab_type": "text"
      },
      "source": [
        "**Submitting your solutions:** As in the previous homeworks, implement the below header that takes in a Pandas dataframe and returns the predictions of review scores for each of the Amazon reviews."
      ]
    },
    {
      "cell_type": "code",
      "metadata": {
        "id": "7tm-QD8sqLUA",
        "colab_type": "code",
        "colab": {}
      },
      "source": [
        "# Inputs: The input to this function is the path to the input CSV file\n",
        "# Outputs: Return a **numpy** array with your score predictions. \n",
        "# **Note** that these score predictions should be between *1-5*.\n",
        "\n",
        "def generate_baseline_predictions(input_df):\n",
        "  # TODO: Write your code here\n",
        "  res = []\n",
        "  data = pd.read_csv(input_df)\n",
        "  for s in data['Text']:\n",
        "    ro,_,_ = ratio(s)\n",
        "    res.append(classify(ro))\n",
        "  res = np.array(res)\n",
        "  return res\n",
        "\n",
        "def generate_logistic_regression_predictions(input_df):\n",
        "  # TODO: Write your code here\n",
        "  res = []\n",
        "  data = pd.read_csv(input_df)\n",
        "  for s in data['Text']:\n",
        "    _,pos,neg = ratio(s)\n",
        "    res.append(model_lr.predict([(pos,neg)])[0])\n",
        "  res = np.array(res)\n",
        "  return res"
      ],
      "execution_count": 0,
      "outputs": []
    },
    {
      "cell_type": "code",
      "metadata": {
        "id": "qPh_lp-IrDYi",
        "colab_type": "code",
        "colab": {}
      },
      "source": [
        "test_case_1b = generate_test_predictions(generate_baseline_predictions)            # 2 pts\n",
        "test_case_1c = generate_test_predictions(generate_logistic_regression_predictions)      # 3 pts"
      ],
      "execution_count": 0,
      "outputs": []
    },
    {
      "cell_type": "markdown",
      "metadata": {
        "id": "nPkxSw8uLC0F",
        "colab_type": "text"
      },
      "source": [
        "# Q2. Featurizing the dataset using torchtext (10 pts)\n",
        "\n",
        "As you saw, data for computer vision is relatively easy to format, simply resize or pad it to a standard format and you can feed it into your neural network. However, text data typically requires more processing before it can be used seamlessly with PyTorch. Thankfully, Pytorch created torchtext, which (similar to torchvision) provides the preprocessing tools to work with textual data.\n",
        "\n",
        "In this question, we will create and featurize a torchtext dataset with Fields, a data structure that can automatically featurize text with its corresponding word embeddings. We will be using the same dataset for the review classification and the summary generation task. Now, lets load the data required only for the review classification task.\n",
        "\n",
        "\n",
        "\n"
      ]
    },
    {
      "cell_type": "markdown",
      "metadata": {
        "id": "QfTD5GgDwAgP",
        "colab_type": "text"
      },
      "source": [
        "## Q2a. Create torchtext data fields (0 pts)\n",
        "\n",
        "First, we create TorchText \"Fields\". Fields describe how to process the input data so it can later be converted to a tensor. For the classification task, we need only two fields from the data - the review text and the review score. Create two torchtext data fields using data.Field from torchtext.data. The documentation for torchtext is [here](https://torchtext.readthedocs.io/en/latest/).\n",
        "\n",
        "\n",
        "*   A sequential field named TEXT for the review text.  (*Hint: since this is natural language, this is sequential data.  Also, use the \"spacy\" tokenizer to tokenize the text. This tokenizer handles converting a string into a series of single words. If you're curious how the spaCy tokenizer works, check out its website [here](https://spacy.io/usage/linguistic-features#tokenization). Also to standardize the tokens, we highly recommend making it lowercase.*)\n",
        "*   A non-sequential field named SCORE for the scores.  (*Hint: since this is a categorical variable, it is not sequential.  Furthermore, it does not require a vocabulary since there are no words to embed.*)"
      ]
    },
    {
      "cell_type": "code",
      "metadata": {
        "id": "f24txIOE719z",
        "colab_type": "code",
        "colab": {}
      },
      "source": [
        "import torch\n",
        "import torch.nn as nn\n",
        "import torch.nn.functional as F\n",
        "import torchtext\n",
        "import torchtext.data as data\n",
        "from collections import Counter\n",
        "from sklearn.metrics import f1_score\n",
        "\n",
        "device = torch.device('cuda:0' if torch.cuda.is_available() else 'cpu')"
      ],
      "execution_count": 0,
      "outputs": []
    },
    {
      "cell_type": "code",
      "metadata": {
        "id": "cwP8xlfPfhrl",
        "colab_type": "code",
        "colab": {}
      },
      "source": [
        "try:\n",
        "  # %tensorflow_version only exists in Colab.\n",
        "  %tensorflow_version 2.x\n",
        "except Exception:\n",
        "  pass\n",
        "\n",
        "# Load the TensorBoard notebook extension\n",
        "%load_ext tensorboard\n",
        "\n",
        "from torch.utils.tensorboard import SummaryWriter"
      ],
      "execution_count": 0,
      "outputs": []
    },
    {
      "cell_type": "code",
      "metadata": {
        "id": "zH-R8LiWcyFG",
        "colab_type": "code",
        "colab": {}
      },
      "source": [
        "%tensorboard --logdir '/content/runs'"
      ],
      "execution_count": 0,
      "outputs": []
    },
    {
      "cell_type": "code",
      "metadata": {
        "id": "jXZq2rGTeOcr",
        "colab_type": "code",
        "colab": {}
      },
      "source": [
        "# TODO: INSERT CODE HERE\n",
        "TEXT = data.Field(sequential=True, tokenize='spacy', lower=True, include_lengths=True)\n",
        "LABEL = data.Field(sequential=False, use_vocab=False)"
      ],
      "execution_count": 0,
      "outputs": []
    },
    {
      "cell_type": "markdown",
      "metadata": {
        "id": "RNH57_LEagHs",
        "colab_type": "text"
      },
      "source": [
        "## Q2b. Create a Tabular Dataset (3 pts)\n",
        "\n",
        "Now that we've defined the two Fields, which determine how to process our data, let's actually produce a dataset with our data! TorchText provides a class called a ```TabularDataset``` which reads in the input data (in this case in the form of a CSV file) and produces a Dataset from it.\n",
        "\n",
        "Now, look at the [documentation](https://torchtext.readthedocs.io/en/latest/data.html#tabulardataset) for `data.TabularDataset` and create two tabular datasets, one for your training data and one for your testing data.  You will need the paths to the training and validation datasets, the format, and the mapping from columns to fields.  \n",
        "The mapping from columns to fields should be provided as a list of tuples where the first tuple element should be the name of the column in the csv and the second element should be the corresponding Field created in the previous step. Columns which you do not use/require will need to be indicated by using *None* for that column in place of the field.\n",
        "Note that the first column in the csv's should not be a field. Also note that while loading the dataset, we would want to ignore the first row (which represents the header).\n",
        "\n",
        "\n",
        "**NOTE :** This step creates 2 torchtext objects for each row in the dataset, so it will take some time (between 2-10 minutes)."
      ]
    },
    {
      "cell_type": "code",
      "metadata": {
        "id": "Zwe7OPvUamms",
        "colab_type": "code",
        "colab": {}
      },
      "source": [
        "# TODO: INSERT CODE HERE\n",
        "datafields = [(' ', None), (' ', None), (' ', None), (' ', None), (' ', None), (' ', None), \\\n",
        "              (' ', None), ('Score', LABEL), (' ', None), ('Summary', TEXT), ('Text', TEXT)]\n",
        "\n",
        "training_data = data.TabularDataset(root_path + 'train.csv', format='csv', fields=datafields, skip_header=True)\n",
        "val_data = data.TabularDataset(root_path + 'val.csv', format='csv', fields=datafields, skip_header=True)"
      ],
      "execution_count": 0,
      "outputs": []
    },
    {
      "cell_type": "markdown",
      "metadata": {
        "id": "h2e5mhJ_zmyd",
        "colab_type": "text"
      },
      "source": [
        "**Q2b (3 pt)** Now, use the dataset created above to print 5 examples of reviews and their rating. Each example should be a tokenized list of the review. Include a screenshot of the output to the write-up\n"
      ]
    },
    {
      "cell_type": "code",
      "metadata": {
        "id": "GIT8WAWno3xX",
        "colab_type": "code",
        "outputId": "381d6fd6-51ef-467a-fd4e-42757ee193d6",
        "colab": {
          "base_uri": "https://localhost:8080/",
          "height": 371
        }
      },
      "source": [
        "# TODO: INSERT CODE HERE\n",
        "for i,s in enumerate(training_data):\n",
        "  if i==5: break\n",
        "  print(\"*******************************\")\n",
        "  print(\"Summary: \", s.Summary)\n",
        "  print(\"Text: \", s.Text)\n",
        "  print(\"Label: \", s.Score)"
      ],
      "execution_count": 0,
      "outputs": [
        {
          "output_type": "stream",
          "text": [
            "*******************************\n",
            "Summary:  ['tastes', 'great', '!']\n",
            "Text:  ['these', 'remind', 'of', 'a', 'product', 'called', 'munchos', 'that', 'i', 'liked', 'a', 'long', 'time', 'ago', 'in', 'regards', 'to', 'flavor', '.', 'great', 'crunch', 'and', 'salt', 'level', '.', 'i', 'wish', 'they', 'packages', 'a', 'bit', 'bigger', 'than', 'the', '0.8', 'and', 'smaller', 'than', '3', 'oz', '.', ' ', 'the', '0.8', 'is', 'nt', 'quite', 'enough', 'and', 'the', '3', 'is', 'too', 'much', '.', 'about', '1.5', 'oz', 'would', 'be', 'right', 'for', 'my', 'appetite', '.']\n",
            "Label:  4\n",
            "*******************************\n",
            "Summary:  ['these', 'were', 'good']\n",
            "Text:  ['i', 'would', \"n't\", 'describe', 'these', 'as', 'the', 'best', 'dried', 'cherries', 'i', 'have', 'ever', 'eaten', 'but', 'they', 'were', 'pretty', 'good.<br', '/><br', '/>traverse', 'uses', 'oil', 'with', 'the', 'cherries', 'to', 'prevent', 'caking', ',', 'a', 'little', 'to', 'much', 'in', 'my', 'opinion', '.', ' ', 'these', 'cherries', 'unlike', 'the', 'blueberries', 'i', 'bought', 'from', 'them', 'were', 'not', 'as', 'effected', 'taste', 'wise', 'as', 'the', 'blue', 'berries', 'were.<br', '/><br', '/>i', 'would', 'buy', 'these', 'again', ',', 'the', 'portion', 'compared', 'to', 'the', 'price', 'makes', 'them', 'a', 'great', 'deal', 'and', 'their', 'taste', 'was', 'rather', 'enjoyable.<br', '/><br', '/>these', 'are', 'not', 'the', 'best', 'cherries', 'out', 'there', 'but', 'they', 'are', 'worth', 'buying', 'and', 'their', 'price', 'is', 'a', 'great', 'deal', '.', ' ', 'just', 'make', 'sure', 'you', 'have', 'a', 'large', 'enough', 'container', 'to', 'store', 'them', 'in', 'and', 'i', 'recommend', 'storing', 'them', 'in', 'the', 'fridge', '.']\n",
            "Label:  4\n",
            "*******************************\n",
            "Summary:  ['best', 'chicken', 'seasoning', 'ever', '!']\n",
            "Text:  ['emeril', \"'s\", 'chicken', 'rub', 'changed', 'the', 'this', 'family', 'eats', '!', ' ', 'i', 'will', 'not', 'say', 'this', 'is', 'a', 'wonder', 'drug', ',', 'but', 'this', 'seasoning', ',', 'on', 'chicken', ',', 'changed', 'a', '7', 'day', 'a', 'week', 'steak', 'and', 'potatoes', ',', 'high', 'fat', 'and', 'high', 'carbs', ',', 'into', 'a', '4', 'times', 'a', 'week', 'chicken', ',', 'low', 'fat', 'and', 'low', 'carbs', ',', 'family', '!']\n",
            "Label:  5\n",
            "*******************************\n",
            "Summary:  ['2nd', 'favorite', 'all', 'around', 'coffee', 'pod']\n",
            "Text:  ['caribou', 'makes', 'a', 'mean', 'cup', 'of', 'coffee', '.', 'it', 'basically', 'tastes', 'like', 'you', 'just', 'paid', '$', '2', 'for', 'it', '.', 'medium', 'flavor', 'and', 'i', 'mix', 'my', 'coffee', 'with', 'heavy', 'whipping', 'cream', '.', 'good', 'stuff', '.']\n",
            "Label:  5\n",
            "*******************************\n",
            "Summary:  ['all', 'good']\n",
            "Text:  ['hi', '<', 'br', '/>my', 'order', 'arrived', 'quickly', ',', 'in', 'good', 'condition', '.', ' ', 'the', 'tea', 'is', 'excelent', 'and', 'just', 'the', 'correct', 'strengh', 'for', ' ', 'my', 'taste', ',', 'which', 'is', 'mild', 'flavored', '.', 'i', 'am', 'able', 'to', 'make', 'two', 'cups', 'from', 'one', 'k', 'cup', 'if', 'i', 'like', '.', 'neither', 'is', 'too', 'strong', 'or', 'weak.<br', '/>good', 'price', ',', 'good', 'taste', 'and', 'great', 'service', ',', 'gets', 'an', 'a+<br', '/><br', '/>arlie']\n",
            "Label:  5\n"
          ],
          "name": "stdout"
        }
      ]
    },
    {
      "cell_type": "markdown",
      "metadata": {
        "id": "QeZMQxpFwHgf",
        "colab_type": "text"
      },
      "source": [
        "## Q2c. Build Vocab (3 pts)\n",
        "\n",
        "Now that we have our text parsed, how do we actually represent our data as tensors? To do this, we use word embeddings, which we highly recommend reading about if you do not understand what they are. Using these word embeddings, we then build our vocabulary with GloVE, a word embedding similar to Word2Vec.  Create a vocabulary from the Field created in Q2a using the train dataset (*Hint: look at the documentation for Field.build_vocab*).  Use the glove.6B.300d word embedding, and save the vocbulary.  The first time you run this, it will take roughly 5-10 minutes to download.  The pretrained model will then be stored in the ./.vector_cache folder, and rerunning this command will take negligible time.\n",
        "\n",
        "Note that you can pass more than one datafield to the `build_vocab` function. Build a single vocab for both, the training data and validation data.\n",
        "\n",
        "**Q2c (3 pts)** Print four properties of the `vocab` - ('freqs', 'itos', 'stoi', 'vectors'). Include a screenshot of the printouts in your writeup. Report the size of the vocabulary."
      ]
    },
    {
      "cell_type": "code",
      "metadata": {
        "id": "9ALZhRFLvjF4",
        "colab_type": "code",
        "colab": {}
      },
      "source": [
        "# TODO: INSERT CODE HERE\n",
        "TEXT.build_vocab(training_data, val_data, min_freq=3, vectors=torchtext.vocab.GloVe(name='6B', dim=300))"
      ],
      "execution_count": 0,
      "outputs": []
    },
    {
      "cell_type": "code",
      "metadata": {
        "id": "Gfp6CaxpXYgS",
        "colab_type": "code",
        "colab": {}
      },
      "source": [
        "print(f'freqs: {TEXT.vocab.freqs}')"
      ],
      "execution_count": 0,
      "outputs": []
    },
    {
      "cell_type": "code",
      "metadata": {
        "id": "hUuMpqZIXkPP",
        "colab_type": "code",
        "colab": {}
      },
      "source": [
        "print(f'itos: {TEXT.vocab.itos}')"
      ],
      "execution_count": 0,
      "outputs": []
    },
    {
      "cell_type": "code",
      "metadata": {
        "id": "NG3F3ZpYXo9v",
        "colab_type": "code",
        "colab": {}
      },
      "source": [
        "print(f'stoi: {TEXT.vocab.stoi}')"
      ],
      "execution_count": 0,
      "outputs": []
    },
    {
      "cell_type": "code",
      "metadata": {
        "id": "xUnGS0OKXt_P",
        "colab_type": "code",
        "colab": {}
      },
      "source": [
        "print(f'vectors: {TEXT.vocab.vectors}')"
      ],
      "execution_count": 0,
      "outputs": []
    },
    {
      "cell_type": "code",
      "metadata": {
        "id": "v2dCghqTYUoA",
        "colab_type": "code",
        "colab": {}
      },
      "source": [
        "print(f'vocabulary size: {len(TEXT.vocab)}')"
      ],
      "execution_count": 0,
      "outputs": []
    },
    {
      "cell_type": "markdown",
      "metadata": {
        "id": "Qzog0-qWwi-5",
        "colab_type": "text"
      },
      "source": [
        "## Q2d. Create an iterator for the dataset (0 pts)\n",
        "\n",
        "Now, create a `BucketIterator` for the training data and the validation data. The `BucketIterator` is equivalent to the `DataLoader`. It splits the data into batches which can be used with recurrent models. This will create batches and add `<pad>` token so that each batch will have the same length. `BucketIterator` creates batches such that the amount of padding is minimum. You will need to sort each batch by the length of the text in decreasing order (this is required for passing the batch through recurrent layers). Look at the documentation of `torchtext.data.BucketIterator` and check the `sort_key` parameter."
      ]
    },
    {
      "cell_type": "code",
      "metadata": {
        "id": "rFxPNAtUlDZ3",
        "colab_type": "code",
        "colab": {}
      },
      "source": [
        "# TODO: INSERT CODE HERE\n",
        "batch_size = 64\n",
        "\n",
        "# define the train iterator\n",
        "train_iterator = data.BucketIterator(\n",
        "    training_data, \n",
        "    batch_size = batch_size, \n",
        "    sort_key = lambda x: len(x.Text),\n",
        "    sort_within_batch = True, \n",
        "    repeat = False, \n",
        "    shuffle = True,\n",
        "    device = device ) \n",
        "\n",
        "# define the test iterator\n",
        "val_iterator = data.BucketIterator(\n",
        "    val_data,\n",
        "    batch_size = batch_size,\n",
        "    sort_key = lambda x: len(x.Text),\n",
        "    sort_within_batch = True,\n",
        "    repeat = False,\n",
        "    shuffle = True,\n",
        "    device = device )"
      ],
      "execution_count": 0,
      "outputs": []
    },
    {
      "cell_type": "markdown",
      "metadata": {
        "id": "yqH6bEk5IWtO",
        "colab_type": "text"
      },
      "source": [
        "## Q2e. Get frequency distribution per class (4 pts)\n",
        "\n",
        "**Q2e (4 pts):** Now, print the frequency distribution for each class for the training data and the validation data. Report the frequencies in your write-up."
      ]
    },
    {
      "cell_type": "code",
      "metadata": {
        "id": "fdHnU3CWeivR",
        "colab_type": "code",
        "outputId": "0bd51619-9275-4f16-98f3-485470c36b8e",
        "colab": {
          "base_uri": "https://localhost:8080/",
          "height": 74
        }
      },
      "source": [
        "# TODO: INSERT CODE HERE\n",
        "train_scores, val_scores = [], []\n",
        "for i, d in enumerate(train_iterator):\n",
        "  train_scores += d.Score.tolist()\n",
        "for i, d in enumerate(val_iterator):\n",
        "  val_scores += d.Score.tolist()\n",
        "\n",
        "train_freq, val_freq = dict(Counter(train_scores)), dict(Counter(val_scores))\n",
        "train_sum, val_sum = sum(train_freq.values()), sum(val_freq.values())\n",
        "for k,v in train_freq.items():\n",
        "  train_freq[k] = v/train_sum\n",
        "for k,v in val_freq.items():\n",
        "  val_freq[k] = v/val_sum\n",
        "\n",
        "print(f'training frequency: {train_freq}')\n",
        "print(f'validation frequency: {val_freq}')"
      ],
      "execution_count": 0,
      "outputs": [
        {
          "output_type": "stream",
          "text": [
            "training frequency: {5: 0.6389846348368654, 3: 0.07530579148456612, 4: 0.1415464115884665, 2: 0.052356999532723124, 1: 0.09180616255737885}\n",
            "validation frequency: {5: 0.2, 4: 0.2, 2: 0.2, 3: 0.2, 1: 0.2}\n"
          ],
          "name": "stdout"
        }
      ]
    },
    {
      "cell_type": "markdown",
      "metadata": {
        "id": "MV_BpAiU1AYl",
        "colab_type": "text"
      },
      "source": [
        "# Q3. Recurrent Amazon Reviews Classifier (25 pts)\n",
        "\n",
        "We will now build the model for predicting the rating given the review. \n",
        "\n",
        "As we are working with text, we will first build a model which uses recurrent layers. Define a model for the classifier which uses *RNN*, *GRU*, *LSTM* and *BiLSTM* layers to predict the rating. You can make four different models or can make a single model with a `mode` parameter which defines which of the four recurrent layers to use. We highly recommend the latter approach, it will make the process much quicker."
      ]
    },
    {
      "cell_type": "markdown",
      "metadata": {
        "id": "jw18kLjPwnD1",
        "colab_type": "text"
      },
      "source": [
        "**Define the basic recurrent model**\n",
        "\n",
        "The model should have a `nn.Embedding` layer whose weights should be initialized to the pretrained embeddings downloaded above. The hidden state output from the last timestep should be passed to one (or more) fully connected layers to produce the output. For the *BiLSTM* model, you can choose to either add or concatenate the hidden state for the two directions (feel free to experiment with both and pick the one which works the best).\n",
        "\n",
        "For this assignment, we will use the *F1 score* to monitor performance of the model. Check `sklearn.metrics.f1_score` to calculate the F1 score.\n",
        "\n",
        "**NOTE:** Also we recommend you use `nn.utils.rnn.pad_packed_sequence` before passing the input to the recurrent layers. This will make sure the padding is ignored for every sample in a batch and the output will be from the actual last token for every sequence."
      ]
    },
    {
      "cell_type": "code",
      "metadata": {
        "id": "InUWNOYenc3u",
        "colab_type": "code",
        "colab": {}
      },
      "source": [
        "class ReviewClassifier(nn.Module):\n",
        "  \"\"\" \n",
        "  Review Classifier\n",
        "\n",
        "  Here we give you the method header for the Review Classifier to make the process easier.\n",
        "  You don't have to use this exact format, feel free to change the parameters as much as you\n",
        "  would like, these are simply the parameters that our solution had.\n",
        "\n",
        "  Parameters: \n",
        "  mode (string): Type of recurrent layer being used. Types are ['rnn', 'lstm', 'gru', 'bilstm']\n",
        "  output_size (int): Size of the last layer for classification (hint: how many classes do you have?)\n",
        "  hidden_size (int): Length of your hidden state vector\n",
        "  vocab_size (int): Length of your vocab (can get this by doing len(TEXT.vocab))\n",
        "  embedding_length (int): Dimension of your word embedding vector (hint: look at part 2c)\n",
        "  word_embeddings (Tensor): All of the word embeddings generated. Can get this from TEXT.vocab.vectors\n",
        "  \"\"\"\n",
        "  def __init__(self, mode, output_size, hidden_size, vocab_size, embedding_length, word_embeddings):\n",
        "    super(ReviewClassifier, self).__init__()\n",
        "\n",
        "    if mode not in ['rnn', 'lstm', 'gru', 'bilstm']:\n",
        "      raise ValueError(\"Choose a mode from - rnn / lstm / gru / bilstm\")\n",
        "\n",
        "    self.mode = mode\n",
        "    self.output_size = output_size\n",
        "    self.hidden_size = hidden_size\n",
        "    self.vocab_size = vocab_size\n",
        "    self.embedding_length = embedding_length\n",
        "\n",
        "    # Embedding Layer\n",
        "    self.embedding = nn.Embedding(self.vocab_size, self.embedding_length)\n",
        "    self.embedding.weights = nn.Parameter(word_embeddings, requires_grad=False)\n",
        "\n",
        "    if self.mode == 'lstm':\n",
        "      # LSTM Layer\n",
        "      self.recurrent1 = nn.LSTM(self.embedding_length, self.hidden_size)\n",
        "      self.recurrent2 = nn.LSTM(self.embedding_length, self.hidden_size)\n",
        "    elif self.mode == 'bilstm':\n",
        "      # BILSTM Layer\n",
        "      self.recurrent1 = nn.LSTM(self.embedding_length, self.hidden_size, bidirectional=True)\n",
        "      self.recurrent2 = nn.LSTM(self.embedding_length, self.hidden_size, bidirectional=True)\n",
        "    elif self.mode == 'gru':\n",
        "      # GRU Layer\n",
        "      self.recurrent1 = nn.GRU(self.embedding_length, self.hidden_size)\n",
        "      self.recurrent2 = nn.GRU(self.embedding_length, self.hidden_size)\n",
        "    else:\n",
        "      # RNN Layer\n",
        "      self.recurrent1 = nn.RNN(self.embedding_length, self.hidden_size)\n",
        "      self.recurrent2 = nn.RNN(self.embedding_length, self.hidden_size)\n",
        "\n",
        "    # Fully Connected Layer\n",
        "    self.fc1 = nn.Linear(2 * self.hidden_size, self.hidden_size)\n",
        "    self.fc2 = nn.Linear(self.hidden_size, self.output_size)\n",
        "\n",
        "  def forward(self, text, summary, text_lengths, summary_lengths):\n",
        "    # Embed the sentences\n",
        "    embedded_text = self.embedding(text)\n",
        "    embedded_summary = self.embedding(summary)\n",
        "\n",
        "    # Pack the embedded text\n",
        "    packed_text = nn.utils.rnn.pack_padded_sequence(embedded_text, text_lengths)\n",
        "    packed_summary = nn.utils.rnn.pack_padded_sequence(embedded_summary, summary_lengths, enforce_sorted=False)\n",
        "\n",
        "    # Train the model\n",
        "    if self.mode == 'rnn' or self.mode == 'gru':\n",
        "      _, hidden_text = self.recurrent1(packed_text)\n",
        "      _, hidden_summary = self.recurrent2(packed_summary)\n",
        "    elif self.mode == 'lstm':\n",
        "      _, (hidden_text, _) = self.recurrent1(packed_text)\n",
        "      _, (hidden_summary, _) = self.recurrent2(packed_summary)\n",
        "    else:\n",
        "      _, (hidden_text, _) = self.recurrent1(packed_text)      \n",
        "      _, (hidden_summary, _) = self.recurrent2(packed_summary)\n",
        "      hidden_text = (hidden_text[0] + hidden_text[1]).unsqueeze(0)\n",
        "      hidden_summary = (hidden_summary[0] + hidden_summary[1]).unsqueeze(0)\n",
        "      # adding hidden_state, get training F1-score: 0.8573, validation F1-score: 0.7234\n",
        "      # concatenating hidden_state, get training F1-score: 0.6989, validation F1-score: 0.3815\n",
        "      # hidden_text = torch.cat((hidden_text[0], hidden_text[1]), dim=1).unsqueeze(0)\n",
        "      # hidden_summary = torch.cat((hidden_summary[0], hidden_summary[1]), dim=1).unsqueeze(0)\n",
        "\n",
        "    # Fully connected layer\n",
        "    fc_input = torch.cat((hidden_text, hidden_summary), dim=2).squeeze(0)\n",
        "    temp = nn.ReLU()(self.fc1(fc_input))\n",
        "    prediction = self.fc2(temp)\n",
        "    return prediction"
      ],
      "execution_count": 0,
      "outputs": []
    },
    {
      "cell_type": "code",
      "metadata": {
        "id": "9IRxhLMDftTM",
        "colab_type": "code",
        "colab": {}
      },
      "source": [
        "def train_classifier(model, dataset_iterator, loss_function, optimizer, \\\n",
        "                     epochs = 10, log = \"runs\", verbose = True, print_every = 100, recurrent = False):\n",
        "  #tensorboard writer\n",
        "  writer = SummaryWriter(log_dir=log) \n",
        "  model.train()\n",
        "  step = 0\n",
        "\n",
        "  for epoch in range(epochs):\n",
        "    total = 0\n",
        "    total_loss = 0\n",
        "    \n",
        "    for batch in dataset_iterator:\n",
        "      text, text_length = batch.Text\n",
        "      summary, summary_length = batch.Summary\n",
        "      labels = batch.Score - 1\n",
        " \n",
        "      batch_size = len(labels)\n",
        "      if torch.sum(text_length)<batch_size or torch.sum(summary_length)<batch_size or any(text_length<=0) or any(summary_length<=0):\n",
        "        continue\n",
        "      \n",
        "      optimizer.zero_grad()\n",
        "      if recurrent:\n",
        "        output = model(text, summary, text_length, summary_length).squeeze(1)\n",
        "      else:\n",
        "        output = model(text, summary).squeeze(1) \n",
        "\n",
        "      labels = labels.type_as(output).long()\n",
        "      loss = loss_function(output, labels)\n",
        "      loss.backward()\n",
        "      optimizer.step()\n",
        "\n",
        "      _,pred = torch.max(output.data, 1)\n",
        "      f1 = f1_score(labels.data.cpu(), pred.data.cpu(), average='macro')\n",
        "      total += labels.size(0)\n",
        "      total_loss += loss.item()\n",
        "  \n",
        "      if ((step % print_every) == 0):\n",
        "        writer.add_scalar(\"Training Loss\", total_loss/total, step)\n",
        "        writer.add_scalar(\"Training F1-Score\", f1, step)\n",
        "        if verbose:\n",
        "          print(\"--- Step: %s F1-Score: %.4f Loss: %.4f\" %(step, f1, total_loss/total))\n",
        "      step = step+1\n",
        "\n",
        "    print(\"Epoch: %s F1-Score: %.4f Loss: %.4f\"%(epoch+1, f1, total_loss/total))\n",
        "\n",
        "def evaluate_classifier(model, dataset_iterator, loss_function, recurrent = False):\n",
        "  model.eval()\n",
        "  total = 0\n",
        "  total_loss = 0\n",
        "  true_labels, predict_labels = [], []\n",
        "  for batch in dataset_iterator:\n",
        "    text, text_length = batch.Text\n",
        "    summary, summary_length = batch.Summary\n",
        "    labels = batch.Score - 1\n",
        "\n",
        "    if any(text_length<=0) or any(summary_length<=0):\n",
        "      continue\n",
        "    \n",
        "    if recurrent:\n",
        "      output = model(text, summary, text_length, summary_length).squeeze(1)\n",
        "    else:\n",
        "      output = model(text, summary).squeeze(1)\n",
        "\n",
        "    labels = labels.type_as(output).long()\n",
        "    loss = loss_function(output, labels)\n",
        "    _,pred = torch.max(output.data, 1) \n",
        "    \n",
        "    true_labels += (labels+1).tolist()\n",
        "    predict_labels += (pred+1).tolist()\n",
        "\n",
        "    f1 = f1_score(labels.data.cpu(), pred.data.cpu(), average='macro')\n",
        "    total += labels.size(0)\n",
        "    total_loss += loss.item()\n",
        "\n",
        "  print(\"Test statistics: F1-Score: %.4f Loss: %.4f\"%(f1, total_loss/total))\n",
        "  return true_labels, predict_labels"
      ],
      "execution_count": 0,
      "outputs": []
    },
    {
      "cell_type": "markdown",
      "metadata": {
        "id": "vL5NZhvZEZvm",
        "colab_type": "text"
      },
      "source": [
        "**Train the Recurrent Models**\n",
        "\n",
        "**Q3b (2 pts):** Train the model defined above with *LSTM* as the recurrent layer. Use the standard `nn.CrossEntropyLoss` as the loss function.  Report the final training F1 score and the final training loss of the model (trained only on the training set). Use the trained model to evaluate on the validation data. Report the validation F1 score. Use the `plot_confusion_matrix` function to display the confusion matrix for the validation set. Report this confusion matrix to your write-up. Report your final hyper-parameter choices in your writeup as well as your hyper-parameter tuning process."
      ]
    },
    {
      "cell_type": "code",
      "metadata": {
        "id": "-BSNELhqeIyP",
        "colab_type": "code",
        "colab": {}
      },
      "source": [
        "output_size = 5\n",
        "hidden_size = 256\n",
        "vocab_size = len(TEXT.vocab)\n",
        "embedding_length = 300\n",
        "word_embeddings = TEXT.vocab.vectors\n",
        "epochs = 5"
      ],
      "execution_count": 0,
      "outputs": []
    },
    {
      "cell_type": "code",
      "metadata": {
        "id": "Z8vKDz_1BQPR",
        "colab_type": "code",
        "colab": {}
      },
      "source": [
        "# Establish LSTM\n",
        "model_lstm = ReviewClassifier('lstm', output_size, hidden_size, vocab_size, embedding_length, word_embeddings)\n",
        "model_lstm = model_lstm.to(device)\n",
        "criterion = nn.CrossEntropyLoss()\n",
        "optimizer = torch.optim.Adam(model_lstm.parameters(), lr=0.001)\n",
        "\n",
        "logger_lstm = 'runs/lstm'\n",
        "train_classifier(model_lstm, train_iterator, criterion, optimizer, log = logger_lstm, epochs = epochs, print_every = 100, recurrent = True)\n",
        "true_labels_lstm, predict_labels_lstm = evaluate_classifier(model_lstm, val_iterator, criterion, recurrent = True)"
      ],
      "execution_count": 0,
      "outputs": []
    },
    {
      "cell_type": "code",
      "metadata": {
        "id": "uvhja3YL2-Yn",
        "colab_type": "code",
        "outputId": "7976bcbf-1aa1-4268-a6b2-483acc2a7fb2",
        "colab": {
          "base_uri": "https://localhost:8080/",
          "height": 624
        }
      },
      "source": [
        "plot_confusion_matrix(true_labels_lstm, predict_labels_lstm, [1,2,3,4,5], ['1','2','3','4','5'], title='Confusion matrix', tensor_name = 'LSTM', normalize=False)"
      ],
      "execution_count": 0,
      "outputs": [
        {
          "output_type": "display_data",
          "data": {
            "image/png": "[encoded data removed]",
            "text/plain": [
              "<Figure size 640x640 with 1 Axes>"
            ]
          },
          "metadata": {
            "tags": []
          }
        }
      ]
    },
    {
      "cell_type": "markdown",
      "metadata": {
        "id": "cziEihgTFQwH",
        "colab_type": "text"
      },
      "source": [
        "**Q3c (2 pts):** What issue do you find after looking at the confusion matrix? What according to you is the reason for this difference? What would you do to fix it? *Hint:* Note what you observed in Q2e. The fix has something to do with the loss function."
      ]
    },
    {
      "cell_type": "code",
      "metadata": {
        "id": "R4JJhL93Ev5N",
        "colab_type": "code",
        "colab": {}
      },
      "source": [
        "# TODO: INSERT CODE HERE\n",
        "w1, w2, w3, w4, w5 = train_freq[1], train_freq[2], train_freq[3], train_freq[4], train_freq[5]\n",
        "weights = torch.tensor([w1, w2, w3, w4, w5]).to(device)"
      ],
      "execution_count": 0,
      "outputs": []
    },
    {
      "cell_type": "markdown",
      "metadata": {
        "id": "4p362mokEwlI",
        "colab_type": "text"
      },
      "source": [
        "**Q3d (2 pts):** Now redo 3b except with the fix for the problem that you noted in Q3c. Report all the same things in your writeup, and explain how adding this fix impacted results. Use the confusion matrix and the F1 Score in your analysis."
      ]
    },
    {
      "cell_type": "code",
      "metadata": {
        "id": "gbKS9LmycuiJ",
        "colab_type": "code",
        "colab": {}
      },
      "source": [
        "# TODO: INSERT CODE HERE\n",
        "model_lstm_revised = ReviewClassifier('lstm', output_size, hidden_size, vocab_size, embedding_length, word_embeddings)\n",
        "model_lstm_revised = model_lstm_revised.to(device)\n",
        "criterion_revised = nn.CrossEntropyLoss(weight=weights)\n",
        "optimizer = torch.optim.Adam(model_lstm_revised.parameters(), lr=0.001)\n",
        "\n",
        "logger_lstm_revised = 'runs/lstm_revised'\n",
        "train_classifier(model_lstm_revised, train_iterator, criterion_revised, optimizer, log = logger_lstm_revised, epochs = epochs, print_every = 100, recurrent = True)\n",
        "true_labels_lstm_revised, predict_labels_lstm_revised = evaluate_classifier(model_lstm_revised, val_iterator, criterion, recurrent = True)"
      ],
      "execution_count": 0,
      "outputs": []
    },
    {
      "cell_type": "code",
      "metadata": {
        "id": "n_1BQ5Df5xaX",
        "colab_type": "code",
        "outputId": "705993f0-9b01-44b9-e19d-9da9b375375d",
        "colab": {
          "base_uri": "https://localhost:8080/",
          "height": 624
        }
      },
      "source": [
        "plot_confusion_matrix(true_labels_lstm_revised, predict_labels_lstm_revised, [1,2,3,4,5], ['1','2','3','4','5'], title='Confusion matrix', tensor_name = 'LSTM', normalize=False)"
      ],
      "execution_count": 0,
      "outputs": [
        {
          "output_type": "display_data",
          "data": {
            "image/png": "[encoded data removed]",
            "text/plain": [
              "<Figure size 640x640 with 1 Axes>"
            ]
          },
          "metadata": {
            "tags": []
          }
        }
      ]
    },
    {
      "cell_type": "markdown",
      "metadata": {
        "id": "N7CkcywuFCGx",
        "colab_type": "text"
      },
      "source": [
        "**Q3e (10 pts):** Train the model with the other three recurrent layers. Plot the training loss and training F1 score for all four (including the one trained in Q3b-d) models on the same graph. (You will provide two plots, one with the training loss for all 4 models and the other with the training F1 score for all 4 models). Also report the confusion matrix for all the four trained models for the validation set. What do you observe? Compare the four models and provide a rough intuition as to why the models performed the way they did. "
      ]
    },
    {
      "cell_type": "code",
      "metadata": {
        "id": "TcD7D6eFFTHt",
        "colab_type": "code",
        "colab": {}
      },
      "source": [
        "# Establish RNN\n",
        "model_rnn = ReviewClassifier('rnn', output_size, hidden_size, vocab_size, embedding_length, word_embeddings)\n",
        "model_rnn = model_rnn.to(device)\n",
        "criterion = nn.CrossEntropyLoss()\n",
        "optimizer = torch.optim.Adam(model_rnn.parameters(), lr=0.001)\n",
        "\n",
        "logger_rnn = 'runs/rnn'\n",
        "train_classifier(model_rnn, train_iterator, criterion, optimizer, log = logger_rnn, epochs = epochs, print_every = 100, recurrent = True)\n",
        "true_labels_rnn, predict_labels_rnn = evaluate_classifier(model_rnn, val_iterator, criterion, recurrent = True)"
      ],
      "execution_count": 0,
      "outputs": []
    },
    {
      "cell_type": "code",
      "metadata": {
        "id": "LmljsfgPOXq0",
        "colab_type": "code",
        "outputId": "419156b9-8180-40b4-9b73-807e63bde2df",
        "colab": {
          "base_uri": "https://localhost:8080/",
          "height": 624
        }
      },
      "source": [
        "plot_confusion_matrix(true_labels_rnn, predict_labels_rnn, [1,2,3,4,5], ['1','2','3','4','5'], title='Confusion matrix', tensor_name = 'RNN', normalize=False)"
      ],
      "execution_count": 0,
      "outputs": [
        {
          "output_type": "display_data",
          "data": {
            "image/png": "[encoded data removed]",
            "text/plain": [
              "<Figure size 640x640 with 1 Axes>"
            ]
          },
          "metadata": {
            "tags": []
          }
        }
      ]
    },
    {
      "cell_type": "code",
      "metadata": {
        "id": "12XuLOd27bQY",
        "colab_type": "code",
        "colab": {}
      },
      "source": [
        "# Establish GRU(Gated Recurrent Unit) - revised LSTM\n",
        "model_gru = ReviewClassifier('gru', output_size, hidden_size, vocab_size, embedding_length, word_embeddings)\n",
        "model_gru = model_gru.to(device)\n",
        "criterion = nn.CrossEntropyLoss()\n",
        "optimizer = torch.optim.Adam(model_gru.parameters(), lr=0.001)\n",
        "\n",
        "logger_gru = 'runs/gru'\n",
        "train_classifier(model_gru, train_iterator, criterion, optimizer, log = logger_gru, epochs = epochs, print_every = 100, recurrent = True)\n",
        "true_labels_gru, predict_labels_gru = evaluate_classifier(model_gru, val_iterator, criterion, recurrent = True)"
      ],
      "execution_count": 0,
      "outputs": []
    },
    {
      "cell_type": "code",
      "metadata": {
        "id": "7wIJYVbyPJpY",
        "colab_type": "code",
        "outputId": "7a9c3414-ddb5-468f-9885-03ea5004fba4",
        "colab": {
          "base_uri": "https://localhost:8080/",
          "height": 624
        }
      },
      "source": [
        "plot_confusion_matrix(true_labels_gru, predict_labels_gru, [1,2,3,4,5], ['1','2','3','4','5'], title='Confusion matrix', tensor_name = 'GRU', normalize=False)"
      ],
      "execution_count": 0,
      "outputs": [
        {
          "output_type": "display_data",
          "data": {
            "image/png": "[encoded data removed]",
            "text/plain": [
              "<Figure size 640x640 with 1 Axes>"
            ]
          },
          "metadata": {
            "tags": []
          }
        }
      ]
    },
    {
      "cell_type": "code",
      "metadata": {
        "id": "vhAfZqFP7ECA",
        "colab_type": "code",
        "colab": {}
      },
      "source": [
        "# Establish BILSTM via adding the hidden state\n",
        "model_bilstm = ReviewClassifier('bilstm', output_size, hidden_size, vocab_size, embedding_length, word_embeddings)\n",
        "model_bilstm = model_bilstm.to(device)\n",
        "criterion = nn.CrossEntropyLoss()\n",
        "optimizer = torch.optim.Adam(model_bilstm.parameters(), lr=0.001)\n",
        "\n",
        "logger_bilstm = 'runs/bilstm'\n",
        "train_classifier(model_bilstm, train_iterator, criterion, optimizer, log = logger_bilstm, epochs = epochs, print_every = 100, recurrent = True)\n",
        "true_labels_bilstm, predict_labels_bilstm = evaluate_classifier(model_bilstm, val_iterator, criterion, recurrent = True)"
      ],
      "execution_count": 0,
      "outputs": []
    },
    {
      "cell_type": "code",
      "metadata": {
        "id": "c3Ob-p17Outs",
        "colab_type": "code",
        "outputId": "7c26afa2-4939-4417-abf6-94d71c024533",
        "colab": {
          "base_uri": "https://localhost:8080/",
          "height": 624
        }
      },
      "source": [
        "plot_confusion_matrix(true_labels_bilstm, predict_labels_bilstm, [1,2,3,4,5], ['1','2','3','4','5'], title='Confusion matrix', tensor_name = 'BILSTM', normalize=False)"
      ],
      "execution_count": 0,
      "outputs": [
        {
          "output_type": "display_data",
          "data": {
            "image/png": "[encoded data removed]",
            "text/plain": [
              "<Figure size 640x640 with 1 Axes>"
            ]
          },
          "metadata": {
            "tags": []
          }
        }
      ]
    },
    {
      "cell_type": "markdown",
      "metadata": {
        "id": "LEtIB5hZrSzk",
        "colab_type": "text"
      },
      "source": [
        "**Submitting your solutions:** As in the previous homeworks, implement the below header that takes in a Pandas dataframe and returns the predictions of review scores for each of the Amazon reviews.\n",
        "\n",
        "**NOTE:** Remember to set the `sort` argument of the `BucketIterator` to `False` when initializing the iterator for the test set. Also set `shuffle` to `False` and use a batch size of 1. This will make sure the generated predictions are in the same order as the test set."
      ]
    },
    {
      "cell_type": "code",
      "metadata": {
        "id": "TnJvQE2NrSMD",
        "colab_type": "code",
        "colab": {}
      },
      "source": [
        "# Inputs: The input to this function is the path to the input CSV file\n",
        "# Outputs: Return a **numpy** array with your score predictions. \n",
        "# **Note** that these score predictions should be between *1-5*.\n",
        "\n",
        "def generate_rnn_predictions(input_df):\n",
        "  # TODO: Write your code here\n",
        "  datafields = [(' ', None), ('Summary', TEXT), ('Text', TEXT)]\n",
        "  test_data = data.TabularDataset(input_df, format='csv', fields=datafields, skip_header=True)\n",
        "  test_iterator = data.BucketIterator(test_data, batch_size=1, sort=False, repeat=False, shuffle=False, device=device)\n",
        "  res = []\n",
        "  for batch in test_iterator:\n",
        "    text, text_length = batch.Text\n",
        "    summary, summary_length = batch.Summary\n",
        "    if text_length==0 or summary_length==0: \n",
        "      res.append(5)\n",
        "      continue\n",
        "    output = model_rnn(text, summary, text_length, summary_length).squeeze(1)\n",
        "    _,pred = torch.max(output.data, 1)\n",
        "    res += (pred+1).tolist()\n",
        "  return np.array(res)\n",
        "\n",
        "def generate_gru_predictions(input_df):\n",
        "  # TODO: Write your code here\n",
        "  datafields = [(' ', None), ('Summary', TEXT), ('Text', TEXT)]\n",
        "  test_data = data.TabularDataset(input_df, format='csv', fields=datafields, skip_header=True)\n",
        "  test_iterator = data.BucketIterator(test_data, batch_size=1, sort=False, repeat=False, shuffle=False, device=device)\n",
        "  res = []\n",
        "  for batch in test_iterator:\n",
        "    text, text_length = batch.Text\n",
        "    summary, summary_length = batch.Summary\n",
        "    if text_length==0 or summary_length==0:  \n",
        "      res.append(5)\n",
        "      continue\n",
        "    output = model_gru(text, summary, text_length, summary_length).squeeze(1)\n",
        "    _,pred = torch.max(output.data, 1)\n",
        "    res += (pred+1).tolist()\n",
        "  return np.array(res)\n",
        "\n",
        "def generate_lstm_predictions(input_df):\n",
        "  # TODO: Write your code here\n",
        "  datafields = [(' ', None), ('Summary', TEXT), ('Text', TEXT)]\n",
        "  test_data = data.TabularDataset(input_df, format='csv', fields=datafields, skip_header=True)\n",
        "  test_iterator = data.BucketIterator(test_data, batch_size=1, sort=False, repeat=False, shuffle=False, device=device)\n",
        "  res = []\n",
        "  for batch in test_iterator:\n",
        "    text, text_length = batch.Text\n",
        "    summary, summary_length = batch.Summary\n",
        "    if text_length==0 or summary_length==0: \n",
        "      res.append(5)\n",
        "      continue\n",
        "    output = model_lstm(text, summary, text_length, summary_length).squeeze(1)\n",
        "    _,pred = torch.max(output.data, 1)\n",
        "    res += (pred+1).tolist()\n",
        "  return np.array(res)\n",
        "\n",
        "def generate_bilstm_predictions(input_df):\n",
        "  # TODO: Write your code here\n",
        "  datafields = [(' ', None), ('Summary', TEXT), ('Text', TEXT)]\n",
        "  test_data = data.TabularDataset(input_df, format='csv', fields=datafields, skip_header=True)\n",
        "  test_iterator = data.BucketIterator(test_data, batch_size=1, sort=False, repeat=False, shuffle=False, device=device)\n",
        "  res = []\n",
        "  for batch in test_iterator:\n",
        "    text, text_length = batch.Text\n",
        "    summary, summary_length = batch.Summary\n",
        "    if text_length==0 or summary_length==0:  \n",
        "      res.append(5)\n",
        "      continue\n",
        "    output = model_bilstm(text, summary, text_length, summary_length).squeeze(1)\n",
        "    _,pred = torch.max(output.data, 1)\n",
        "    res += (pred+1).tolist()\n",
        "  return np.array(res)"
      ],
      "execution_count": 0,
      "outputs": []
    },
    {
      "cell_type": "code",
      "metadata": {
        "id": "5rHQMVT7reB0",
        "colab_type": "code",
        "colab": {}
      },
      "source": [
        "test_case_3e_rnn    = generate_test_predictions(generate_rnn_predictions)        # 1 pts  \n",
        "test_case_3e_gru    = generate_test_predictions(generate_gru_predictions)        # 2 pts\n",
        "test_case_3e_lstm    = generate_test_predictions(generate_lstm_predictions)       # 3 pts\n",
        "test_case_3e_bilstm   = generate_test_predictions(generate_bilstm_predictions)      # 3 pts"
      ],
      "execution_count": 0,
      "outputs": []
    },
    {
      "cell_type": "markdown",
      "metadata": {
        "id": "NGf6xSfWQeK3",
        "colab_type": "text"
      },
      "source": [
        "# Q4. Classifier with self-attention (30 pts)\n",
        "\n",
        "Now, we will implement the Review Classifier with self-attention. Self-attention is a technique where we score the input sequence hidden states with respect to the final hidden representation we use for classification. \n",
        "\n",
        "Attention is a very useful technique used in all of deep learning to figure out what parts of the input are more important for producing the output. This helps us use a more relevant feature representation of the input with respect to the end goal. In NLP applications, we typically want to know which words (or tokens) in the input sequence are important for our task. In this assignment, we are interested to figure out what words in the review text are the most important to predict the rating. We call it self-attention because the words from the same input sentence are attended on for the classification.\n",
        "\n",
        "You can read about attention in more detail from [here](https://medium.com/datadriveninvestor/attention-in-rnns-321fbcd64f05).\n",
        "\n",
        "Attention was originally introduced for encoder-decoder architectures used for machine translation in [this paper](https://arxiv.org/pdf/1409.0473.pdf).\n",
        "\n"
      ]
    },
    {
      "cell_type": "markdown",
      "metadata": {
        "id": "y1unetoPe_u4",
        "colab_type": "text"
      },
      "source": [
        "## Q4a. Define the attention module\n",
        "\n",
        "Define an `Attention` module (just like you define any model). For this assignment, we will be implementing *additive attention*. So, the inputs to the attention will be passed through fully connected layers and finally through a softmax to output the `attention_scores`. The following figure summarizes the procedure to compute the `attention_scores`. Implement the `forward()` of the `Attention` module as per the figure.\n",
        "\n",
        "![attention](https://i.imgur.com/uFdThV6.png)\n",
        "\n",
        "To implement self-attention we will first define an `Attention` module. This module will take as input the final representation with respect to which we want to attend on the input sequence (for this assignment, the last hidden state) and the output of the recurrent layer from each timestep and outputs `attention_scores` which is a probability distribution over each token in the input sequence representing the importance of each token for the final prediction."
      ]
    },
    {
      "cell_type": "code",
      "metadata": {
        "id": "AHOK-kyfQkDf",
        "colab_type": "code",
        "colab": {}
      },
      "source": [
        "class Attention(nn.Module):\n",
        "  def __init__(self, hidden_size):\n",
        "    super(Attention, self).__init__()\n",
        "    self.fc1 = nn.Linear(hidden_size, 1)\n",
        "    \n",
        "  def forward(self, hidden, encoder_outputs):\n",
        "    \"\"\" \n",
        "    Parameters: \n",
        "    hidden (vector): Final hidden state from the input sequence\n",
        "    encoder_outputs (tensor): Hidden state produced from each of the input sequence tokens\n",
        "    \"\"\"\n",
        "    alpha = self.fc1(encoder_outputs)\n",
        "    alpha = F.softmax(alpha, dim=0)\n",
        "    context = torch.sum(alpha * encoder_outputs, dim=0).unsqueeze(0)\n",
        "    att = torch.cat((context, hidden), dim=2)\n",
        "    return att\n",
        "\n",
        "attention = Attention(hidden_size).to(device)"
      ],
      "execution_count": 0,
      "outputs": []
    },
    {
      "cell_type": "markdown",
      "metadata": {
        "id": "4x6NMYWFfLlH",
        "colab_type": "text"
      },
      "source": [
        "## Q4b. Define the classifier model with attention\n",
        "\n",
        "Now, define a model which uses the `Attention` module defines above. This model will be the same as the one defined in section Q3 except that you will compute a `context` vector (calculated as a weighted average of the outputs for each timestep with weights from the `Attention` module) and then concatenate this vector with the last hidden state vector . The context vector concatenated with the last hidden state should be passed through one (or more) fully connected layers to generate the final predictions.\n",
        "\n",
        "**NOTE:** Pay careful attention to the dimensions of the output. The recurrent layers expect input with the batch size at the second dimension and sequence length as the first dimension. The output also follows the same rule.\n",
        "\n",
        "**NOTE:** Also we recommend you use `nn.utils.rnn.pad_packed_sequence` before passing the input to the recurrent layers. This will make sure the padding is ignored for every sample in a batch and the output will be from the last batch "
      ]
    },
    {
      "cell_type": "code",
      "metadata": {
        "id": "7pty6LWLQeT4",
        "colab_type": "code",
        "colab": {}
      },
      "source": [
        "class ReviewClassifierWithAttention(nn.Module):  \n",
        "  def __init__(self, mode, output_size, hidden_size, vocab_size, embedding_length, word_embeddings):\n",
        "    super(ReviewClassifierWithAttention, self).__init__()\n",
        "\n",
        "    if mode not in ['rnn', 'lstm', 'gru', 'bilstm']:\n",
        "      raise ValueError(\"Choose a mode from - rnn / lstm / gru / bilstm\")\n",
        "\n",
        "    self.mode = mode\n",
        "    self.output_size = output_size\n",
        "    self.hidden_size = hidden_size\n",
        "    self.vocab_size = vocab_size\n",
        "    self.embedding_length = embedding_length\n",
        "\n",
        "    # Embedding Layer\n",
        "    self.embedding = nn.Embedding(self.vocab_size, self.embedding_length)\n",
        "    self.embedding.weights = nn.Parameter(word_embeddings, requires_grad=False)\n",
        "\n",
        "    if self.mode == 'lstm':\n",
        "      # LSTM Layer\n",
        "      self.recurrent1 = nn.LSTM(self.embedding_length, self.hidden_size)\n",
        "      self.recurrent2 = nn.LSTM(self.embedding_length, self.hidden_size)\n",
        "    elif self.mode == 'bilstm':\n",
        "      # BILSTM Layer\n",
        "      self.recurrent1 = nn.LSTM(self.embedding_length, self.hidden_size, bidirectional=True)\n",
        "      self.recurrent2 = nn.LSTM(self.embedding_length, self.hidden_size, bidirectional=True)\n",
        "    elif self.mode == 'gru':\n",
        "      # GRU Layer\n",
        "      self.recurrent1 = nn.GRU(self.embedding_length, self.hidden_size)\n",
        "      self.recurrent2 = nn.GRU(self.embedding_length, self.hidden_size)\n",
        "    else:\n",
        "      # RNN Layer\n",
        "      self.recurrent1 = nn.RNN(self.embedding_length, self.hidden_size)\n",
        "      self.recurrent2 = nn.RNN(self.embedding_length, self.hidden_size)\n",
        "\n",
        "    # Fully Connected Layer\n",
        "    self.fc1 = nn.Linear(4 * self.hidden_size, self.hidden_size)\n",
        "    self.fc2 = nn.Linear(self.hidden_size, self.output_size)\n",
        "\n",
        "\n",
        "  def forward(self, text, summary, text_lengths, summary_lengths):\n",
        "    # Embed the sentences\n",
        "    embedded_text = self.embedding(text)\n",
        "    embedded_summary = self.embedding(summary)\n",
        "   \n",
        "    # Pack the embedded text\n",
        "    packed_text = nn.utils.rnn.pack_padded_sequence(embedded_text, text_lengths)\n",
        "    packed_summary = nn.utils.rnn.pack_padded_sequence(embedded_summary, summary_lengths, enforce_sorted=False)\n",
        "\n",
        "    # Train the model\n",
        "    if self.mode == 'rnn' or self.mode == 'gru':\n",
        "      output_text, hidden_text = self.recurrent1(packed_text)\n",
        "      output_summary, hidden_summary = self.recurrent2(packed_summary)\n",
        "    elif self.mode == 'lstm':\n",
        "      output_text, (hidden_text, _) = self.recurrent1(packed_text)\n",
        "      output_summary, (hidden_summary, _) = self.recurrent2(packed_summary)\n",
        "    else:\n",
        "      output_text, (hidden_text, _) = self.recurrent1(packed_text)      \n",
        "      output_summary, (hidden_summary, _) = self.recurrent2(packed_summary)\n",
        "      hidden_text = (hidden_text[0] + hidden_text[1]).unsqueeze(0)\n",
        "      hidden_summary = (hidden_summary[0] + hidden_summary[1]).unsqueeze(0)\n",
        "\n",
        "    # Unpack the text\n",
        "    unpacked_text,_ = nn.utils.rnn.pad_packed_sequence(output_text)    \n",
        "    unpacked_summary,_ = nn.utils.rnn.pad_packed_sequence(output_summary)\n",
        "    if self.mode == 'bilstm':\n",
        "      unpacked_text = unpacked_text[:,:,:self.hidden_size] + unpacked_text[:,:,self.hidden_size:]\n",
        "      unpacked_summary = unpacked_summary[:,:,:self.hidden_size] + unpacked_summary[:,:,self.hidden_size:]\n",
        "\n",
        "    # Attention layer    \n",
        "    attention_text = attention(hidden_text, unpacked_text)\n",
        "    attention_summary = attention(hidden_summary, unpacked_summary)\n",
        "\n",
        "    # Fully connected layer\n",
        "    fc_input = torch.cat((attention_text, attention_summary), dim=2).squeeze(0)\n",
        "    temp = nn.ReLU()(self.fc1(fc_input))\n",
        "    prediction = self.fc2(temp)\n",
        "    return prediction"
      ],
      "execution_count": 0,
      "outputs": []
    },
    {
      "cell_type": "markdown",
      "metadata": {
        "id": "GkuC5PcN936X",
        "colab_type": "text"
      },
      "source": [
        "## Q4c. Training the attention model\n",
        "\n",
        "Train the model defined above using the recurrent layer which performed the best in the previous section. (You can choose to tune the hyperparameters - recurrent layers, hidden size, etc. also to pick the best model with self attention). \n",
        "\n",
        "**Q4c (5 pts):** Report the final accuracy, F1 score and loss for the training and validation sets. Include the training and validation plots in your write-up. Also plot the confusion matrix for the validation data and include it in your write-up.\n",
        "\n",
        "**Q4d (5 pts):** How does the model with and without self attention compare? What do you think intuitively explains the difference in performance?"
      ]
    },
    {
      "cell_type": "code",
      "metadata": {
        "id": "46PY8gNSeOeq",
        "colab_type": "code",
        "colab": {}
      },
      "source": [
        "# Establish BILSTM with attention\n",
        "model_bilstm_att = ReviewClassifierWithAttention('bilstm', output_size, hidden_size, vocab_size, embedding_length, word_embeddings)\n",
        "model_bilstm_att = model_bilstm_att.to(device)\n",
        "criterion = nn.CrossEntropyLoss()\n",
        "optimizer = torch.optim.Adam(model_bilstm_att.parameters(), lr=0.001)\n",
        "\n",
        "logger_bilstm_att = 'runs/bilstm_att'\n",
        "train_classifier(model_bilstm_att, train_iterator, criterion, optimizer, log = logger_bilstm_att, epochs = epochs, print_every = 100, recurrent = True)\n",
        "true_labels_bilstm_att, predict_labels_bilstm_att = evaluate_classifier(model_bilstm_att, val_iterator, criterion, recurrent = True)"
      ],
      "execution_count": 0,
      "outputs": []
    },
    {
      "cell_type": "code",
      "metadata": {
        "id": "oHDTfGsbWOGr",
        "colab_type": "code",
        "outputId": "08967407-24c1-4428-8623-2cc2c56e4a6a",
        "colab": {
          "base_uri": "https://localhost:8080/",
          "height": 642
        }
      },
      "source": [
        "final_accuracy = np.argwhere(np.array(true_labels_bilstm_att)==np.array(predict_labels_bilstm_att)).size/len(true_labels_bilstm_att)\n",
        "print(f'Validation Acc: {final_accuracy}')\n",
        "plot_confusion_matrix(true_labels_bilstm_att, predict_labels_bilstm_att, [1,2,3,4,5], ['1','2','3','4','5'], title='Confusion matrix', tensor_name = 'BILSTM', normalize=False)"
      ],
      "execution_count": 0,
      "outputs": [
        {
          "output_type": "stream",
          "text": [
            "Validation Acc: 0.7103644503954141\n"
          ],
          "name": "stdout"
        },
        {
          "output_type": "display_data",
          "data": {
            "image/png": "[encoded data removed]",
            "text/plain": [
              "<Figure size 640x640 with 1 Axes>"
            ]
          },
          "metadata": {
            "tags": []
          }
        }
      ]
    },
    {
      "cell_type": "markdown",
      "metadata": {
        "id": "bDpDbjJowQUv",
        "colab_type": "text"
      },
      "source": [
        "**Submitting your solutions:** As in the previous homeworks, implement the below header that takes in a Pandas dataframe and returns the predictions of review scores for each of the Amazon reviews."
      ]
    },
    {
      "cell_type": "code",
      "metadata": {
        "id": "W1mTHMUnwQzs",
        "colab_type": "code",
        "colab": {}
      },
      "source": [
        "# Inputs: The input to this function is the path to the input CSV file\n",
        "# Outputs: Return a **numpy** array with your score predictions. \n",
        "# **Note** that these score predictions should be between *1-5*.\n",
        "\n",
        "def generate_attention_predictions(input_df):\n",
        "  # TODO: Write your code here\n",
        "  datafields = [(' ', None), ('Summary', TEXT), ('Text', TEXT)]\n",
        "  test_data = data.TabularDataset(input_df, format='csv', fields=datafields, skip_header=True)\n",
        "  test_iterator = data.BucketIterator(test_data, batch_size=1, sort=False, repeat=False, shuffle=False, device=device)\n",
        "  res = []\n",
        "  for batch in test_iterator:\n",
        "    text, text_length = batch.Text\n",
        "    summary, summary_length = batch.Summary\n",
        "    if text_length==0 or summary_length==0:  \n",
        "      res.append(5)\n",
        "      continue\n",
        "    output = model_bilstm_att(text, summary, text_length, summary_length).squeeze(1)\n",
        "    _,pred = torch.max(output.data, 1)\n",
        "    res += (pred+1).tolist()\n",
        "  return np.array(res)"
      ],
      "execution_count": 0,
      "outputs": []
    },
    {
      "cell_type": "code",
      "metadata": {
        "id": "CrCqcfLqweDN",
        "colab_type": "code",
        "colab": {}
      },
      "source": [
        "test_case_4e = generate_test_predictions(generate_attention_predictions)         # 20 pts  "
      ],
      "execution_count": 0,
      "outputs": []
    },
    {
      "cell_type": "markdown",
      "metadata": {
        "id": "JJUoKp6J4PJk",
        "colab_type": "text"
      },
      "source": [
        "# Q5. Transfer Learning using Hugging Face (20 pts)\n",
        "\n",
        "As you saw in the computer vision homework, transfer learning is a powerful tool to boost the accuracy of a model, especially with limited data. Most transfer learning models for text applications are extremely large and difficult to work with, so to make this easier most use a github repository called [Hugging Face](https://github.com/huggingface) (which we highly recommend checking out!). Getting the data to be in the right format for training can be difficult even with Hugging Face, so for this assignment we'll be using a library built on top of Hugging Face called [Simple Transformers](https://github.com/ThilinaRajapakse/simpletransformers), which makes transfer learning extremely easy."
      ]
    },
    {
      "cell_type": "markdown",
      "metadata": {
        "id": "r8KUmb5PtvTX",
        "colab_type": "text"
      },
      "source": [
        "## Setting up Simple Transformers"
      ]
    },
    {
      "cell_type": "markdown",
      "metadata": {
        "id": "BmJ0b3-Ft5aC",
        "colab_type": "text"
      },
      "source": [
        "First we download the pip package for SimpleTransformers"
      ]
    },
    {
      "cell_type": "code",
      "metadata": {
        "id": "IWg0e_--tvNT",
        "colab_type": "code",
        "colab": {}
      },
      "source": [
        "!pip install simpletransformers"
      ],
      "execution_count": 0,
      "outputs": []
    },
    {
      "cell_type": "markdown",
      "metadata": {
        "id": "CWs6_ShWt7yc",
        "colab_type": "text"
      },
      "source": [
        "Now, to initialize a classification model, you can do so similarly to how we do it below. Feel free to change the args passed in, however, make sure to keep \"fp16\" set to false (trust us on this)."
      ]
    },
    {
      "cell_type": "code",
      "metadata": {
        "id": "luo_j-yL4T7P",
        "colab_type": "code",
        "colab": {}
      },
      "source": [
        "from simpletransformers.classification import ClassificationModel\n",
        "model1 = ClassificationModel('roberta', 'roberta-base', num_labels=6, args=({'fp16': False, 'reprocess_input_data': True}))\n",
        "model2 = ClassificationModel('camembert', 'camembert-base', num_labels=6, args=({'fp16': False, 'reprocess_input_data': True}))"
      ],
      "execution_count": 0,
      "outputs": []
    },
    {
      "cell_type": "markdown",
      "metadata": {
        "id": "xgl_XPwhulRI",
        "colab_type": "text"
      },
      "source": [
        "The input format for SimpleTransformers is to have the text data in a columm called \"text\" and to have the labels as a column called \"labels\" so let's say your pandas dataframe was called `train_df`, then you would relabel it as follows:"
      ]
    },
    {
      "cell_type": "code",
      "metadata": {
        "id": "k5dfexyuFDYj",
        "colab_type": "code",
        "colab": {}
      },
      "source": [
        "train_df_cleaned = train[['Text', 'Score']].rename(columns={\"Text\":\"text\", \"Score\":\"labels\"})\n",
        "test_df_cleaned = val[['Text', 'Score']].rename(columns={\"Text\":\"text\", \"Score\":\"labels\"})"
      ],
      "execution_count": 0,
      "outputs": []
    },
    {
      "cell_type": "markdown",
      "metadata": {
        "id": "0HCQPUeRuaAX",
        "colab_type": "text"
      },
      "source": [
        "Great! Now that you've downloaded the model, let's train with it. To train with it, run the following code snippet below. \n",
        "\n",
        "**Note:** This will take a pretty long time so grab a coffee, turn on a Netflix show and watch a few episodes, play a few games of Overwatch, whatever you do to kill time. You can actually run up to two Colab runtimes at once, so you can always duplicate this notebook and keep on working on the homework -- up to you.\n",
        "\n",
        "You'll note that this will progress in two stages: In the first stage the model converts your input data into features (similar to when you created your TabularDataset earlier). In the second stage, it will actually train with those input features and labels, and display the progress to you. For reference, it took around ~3 hours to run through a single epoch of the dataset (yikes).\n",
        "\n",
        "**Hint:** We recommend that you make sure this works on a subset of your training data / testing data (like 1% of it) before you run it on the whole dataset so you don't waste lots of time."
      ]
    },
    {
      "cell_type": "code",
      "metadata": {
        "id": "WWTU3ZmOucpC",
        "colab_type": "code",
        "colab": {}
      },
      "source": [
        "# Train the model\n",
        "model1.train_model(train_df_cleaned, output_dir='outputs/model1')\n",
        "\n",
        "# Evaluate the model\n",
        "result1, model_outputs1, wrong_predictions1 = model1.eval_model(test_df_cleaned)"
      ],
      "execution_count": 0,
      "outputs": []
    },
    {
      "cell_type": "code",
      "metadata": {
        "id": "J9d3uyecN0oM",
        "colab_type": "code",
        "colab": {}
      },
      "source": [
        "# Train the model\n",
        "model2.train_model(train_df_cleaned, output_dir='outputs/model2')\n",
        "\n",
        "# Evaluate the model\n",
        "result2, model_outputs2, wrong_predictions2 = model2.eval_model(test_df_cleaned)"
      ],
      "execution_count": 0,
      "outputs": []
    },
    {
      "cell_type": "markdown",
      "metadata": {
        "id": "Wc-kMs99Lr9T",
        "colab_type": "text"
      },
      "source": [
        "**Q5a (8 pts):** Report your final testing macro average F1 Score as well as confusion matrix in your writeup. Analyze your results in comparison to the recurrent models you  trained previously (including both the self-attention and non self-attention models). Try out at least 2 different models (roberta included) and compare their efficacies in the writeup.\n"
      ]
    },
    {
      "cell_type": "code",
      "metadata": {
        "id": "qVxwose7CYSp",
        "colab_type": "code",
        "colab": {}
      },
      "source": [
        "predict1 = np.argmax(model_outputs1, axis=1).tolist()\n",
        "F1_score1 = f1_score(test_df_cleaned['labels'].tolist(), predict1, average='macro')\n",
        "\n",
        "print(f'F1-Score of Model 1: {F1_score1}')\n",
        "plot_confusion_matrix(test_df_cleaned['labels'].tolist(), predict1, [1,2,3,4,5], ['1','2','3','4','5'], title='Confusion matrix', tensor_name = 'BILSTM', normalize=False)"
      ],
      "execution_count": 0,
      "outputs": []
    },
    {
      "cell_type": "code",
      "metadata": {
        "id": "13DAu2O2NpCb",
        "colab_type": "code",
        "colab": {}
      },
      "source": [
        "predict2 = np.argmax(model_outputs2, axis=1).tolist()\n",
        "F1_score2 = f1_score(test_df_cleaned['labels'].tolist(), predict2, average='macro')\n",
        "print(f'F1-Score of Model 2: {F1_score2}')\n",
        "plot_confusion_matrix(test_df_cleaned['labels'].tolist(), predict2, [1,2,3,4,5], ['1','2','3','4','5'], title='Confusion matrix', tensor_name = 'BILSTM', normalize=False)"
      ],
      "execution_count": 0,
      "outputs": []
    },
    {
      "cell_type": "markdown",
      "metadata": {
        "id": "rzl0s-Z6w9Rd",
        "colab_type": "text"
      },
      "source": [
        "**Submitting your solutions:** As in the previous homeworks, implement the below header that takes in a Pandas dataframe and returns the predictions of review scores for each of the Amazon reviews."
      ]
    },
    {
      "cell_type": "code",
      "metadata": {
        "id": "4UlzeeT-w977",
        "colab_type": "code",
        "colab": {}
      },
      "source": [
        "# Inputs: The input to this function is the path to the input CSV file\n",
        "# Outputs: Return a **numpy** array with your score predictions. \n",
        "# **Note** that these score predictions should be between *1-5*.\n",
        "\n",
        "def generate_transfer_learning_predictions(input_df):\n",
        "  # TODO: Write your code here\n",
        "  test_df = pd.read_csv(input_df)\n",
        "  test_df['Score'] = 0\n",
        "  test_df_cleaned = test_df[['Text', 'Score']].rename(columns={\"Text\":\"text\", \"Score\":\"labels\"})\n",
        "  result, model_outputs, wrong_predictions = model1.eval_model(test_df_cleaned)\n",
        "  predict = np.argmax(model_outputs, axis=1)\n",
        "  return predict"
      ],
      "execution_count": 0,
      "outputs": []
    },
    {
      "cell_type": "code",
      "metadata": {
        "id": "MbUVBW7NxC67",
        "colab_type": "code",
        "colab": {}
      },
      "source": [
        "test_case_5b = generate_test_predictions(generate_transfer_learning_predictions) # 12 pts"
      ],
      "execution_count": 0,
      "outputs": []
    },
    {
      "cell_type": "markdown",
      "metadata": {
        "id": "9QkZaEqwlcPS",
        "colab_type": "text"
      },
      "source": [
        "# **Extra Credit:** Q6. Seq2Seq model (25 pts)\n",
        "\n",
        "**Note:** The entirety of question 6 is **Extra Credit**. This will be a bit more challenging, especially to get good results, but if you have time we highly recommend trying it out!\n",
        "\n",
        "In this section, you will implement a Seq2Seq architecture to generate the summary for the Review text. The dataset contains one more attribute which is the summary of the review text (it is actually the title reviewers gave while writing the review and the review text is the description provided).\n",
        "\n",
        "You will implement the standard *Encoder-Decoder* model where the review text will be given as input to the encoder and the decoder will generate the summary. For simplicity of this assignment, we will implement a basic version of the encoder-decoder architecture and use standard training techniques. More sophisticated versions of the architeture like encoder-decoder attention, teacher-forcing (while training), beam search (for inference), etc. will help the model perform better. But for the purpose of this assignment, we will expect you to implement a basic version of the architecture.\n",
        "\n"
      ]
    },
    {
      "cell_type": "markdown",
      "metadata": {
        "id": "P1xxn0z1qrjH",
        "colab_type": "text"
      },
      "source": [
        "## Q6a. Featuring the dataset using torchtext (for the generative task) (0 pts)\n",
        "\n",
        "For the text generation task, you will need to redefine the torchtext data fields. Create one torchtext field. Note that, we now need to add start and end tokens to both the text sequences. Look at the `init_token` and `eos_token` parameters when creating the data field.\n",
        "\n",
        "Then create a tabular dataset for the training and validation set. This time also load the *Summary* field. Note that to ensure we create a single common vocabulary for both - the text and summary, we will use the same data field for both the attributes.\n",
        "\n",
        "Now build the vocabulary for the the data field you created using both the training and validation datasets created in the previous step. As before you should continue using the glove.6B.300d word embeddings.\n",
        "\n",
        "Then just as you did in Q1, create a `BucketIterator` for both the training and validation set."
      ]
    },
    {
      "cell_type": "code",
      "metadata": {
        "id": "-5CxPRqdvOZI",
        "colab_type": "code",
        "colab": {}
      },
      "source": [
        "# Create torchtext DataField & TabularDataset\n",
        "TEXT_S2S = data.Field(sequential=True, tokenize='spacy', lower=True, include_lengths=True, init_token='<start>', eos_token='<end>')\n",
        "datafields = [(' ', None), (' ', None), (' ', None), (' ', None), (' ', None), (' ', None), \\\n",
        "              (' ', None), (' ', None), (' ', None), ('Summary', TEXT_S2S), ('Text', TEXT_S2S)]\n",
        "\n",
        "train_s2s = data.TabularDataset('/content/drive/My Drive/CIS522 Homeworks/HW4/train.csv', format='csv', fields=datafields, skip_header=True)\n",
        "val_s2s = data.TabularDataset('/content/drive/My Drive/CIS522 Homeworks/HW4/val.csv', format='csv', fields=datafields, skip_header=True)"
      ],
      "execution_count": 0,
      "outputs": []
    },
    {
      "cell_type": "code",
      "metadata": {
        "id": "CYo0QndH5j_b",
        "colab_type": "code",
        "outputId": "b7d726f4-1a20-49e3-84ad-c35b4050d9ee",
        "colab": {
          "base_uri": "https://localhost:8080/",
          "height": 54
        }
      },
      "source": [
        "# Build Vocabulary for dataset\n",
        "TEXT_S2S.build_vocab(train_s2s, val_s2s, min_freq=3, vectors=torchtext.vocab.GloVe('6B', dim=300))"
      ],
      "execution_count": 0,
      "outputs": [
        {
          "output_type": "stream",
          "text": [
            ".vector_cache/glove.6B.zip: 862MB [06:27, 2.22MB/s]                           \n",
            "100%|█████████▉| 399725/400000 [00:51<00:00, 7908.04it/s]"
          ],
          "name": "stderr"
        }
      ]
    },
    {
      "cell_type": "code",
      "metadata": {
        "id": "3xnflWJS5k0e",
        "colab_type": "code",
        "colab": {}
      },
      "source": [
        "print(f'freqs: {TEXT_S2S.vocab.freqs}')"
      ],
      "execution_count": 0,
      "outputs": []
    },
    {
      "cell_type": "code",
      "metadata": {
        "id": "kCF3Rw1AgaUd",
        "colab_type": "code",
        "colab": {}
      },
      "source": [
        "print(f'stoi: {TEXT_S2S.vocab.itos}')"
      ],
      "execution_count": 0,
      "outputs": []
    },
    {
      "cell_type": "code",
      "metadata": {
        "id": "1cJ-hS3w5m_f",
        "colab_type": "code",
        "colab": {}
      },
      "source": [
        "print(f'vectors: {TEXT_S2S.vocab.vectors}')"
      ],
      "execution_count": 0,
      "outputs": []
    },
    {
      "cell_type": "code",
      "metadata": {
        "id": "7IuNARL05pDq",
        "colab_type": "code",
        "colab": {}
      },
      "source": [
        "print(f'vocabulary size: {len(TEXT_S2S.vocab)}')"
      ],
      "execution_count": 0,
      "outputs": []
    },
    {
      "cell_type": "code",
      "metadata": {
        "id": "e52e6N-35rIZ",
        "colab_type": "code",
        "colab": {}
      },
      "source": [
        "# Establish BucketIterator for training set and validation set\n",
        "batch_size = 64\n",
        "train_s2s_iterator = data.BucketIterator(train_s2s, batch_size, sort_key=lambda x: len(x.Text), sort_within_batch=True, shuffle=True, device=device)\n",
        "val_s2s_iterator = data.BucketIterator(val_s2s, batch_size=1, sort_key=lambda x: len(x.Text), sort_within_batch=True, shuffle=True, device=device)"
      ],
      "execution_count": 0,
      "outputs": []
    },
    {
      "cell_type": "code",
      "metadata": {
        "id": "GddfW7lsfZPU",
        "colab_type": "code",
        "colab": {}
      },
      "source": [
        "hidden_size = 256\n",
        "vocab_size = len(TEXT_S2S.vocab)\n",
        "embedding_size = 300\n",
        "word_embeddings = TEXT_S2S.vocab.vectors\n",
        "epochs = 1"
      ],
      "execution_count": 0,
      "outputs": []
    },
    {
      "cell_type": "markdown",
      "metadata": {
        "id": "AVRH137BKjZ3",
        "colab_type": "text"
      },
      "source": [
        "## Q6a. The Encoder Model (3 pts)\n",
        "\n",
        "You will start by defining the encoder model. This model will be exactly the same as the one implemented in section Q3. The encoder's input will be the review text and will return an encoded representation of the text (which will be the output of the recurrent layer you use). Use any one of the recurrent layers like the one which performed the best in section Q3 or tune it as a hyperparameter to choose which works the best.\n",
        "\n",
        "**Q6a (3 pts):** Take a screenshot of your encoder architecture and attach it in your writeup. Explain your rationale for the architecture."
      ]
    },
    {
      "cell_type": "code",
      "metadata": {
        "id": "S3wyxh4-YTk0",
        "colab_type": "code",
        "outputId": "1e036c57-1a3e-4a6f-e537-85f39289ba21",
        "colab": {
          "base_uri": "https://localhost:8080/",
          "height": 35
        }
      },
      "source": [
        "# Define a BILSTM Encoder\n",
        "class Encoder(nn.Module):\n",
        "  def __init__(self, hidden_size, vocab_size, embedding_size, word_embeddings, dropout_v=0.2):\n",
        "    super(Encoder,self).__init__()\n",
        "    self.hidden_size = hidden_size \n",
        "    self.vocab_size = vocab_size\n",
        "    self.embedding_size = embedding_size\n",
        "    self.word_embeddings = word_embeddings\n",
        "    self.dropout = nn.Dropout(dropout_v)\n",
        "\n",
        "    # Embedding Layer\n",
        "    self.embedding = nn.Embedding(self.vocab_size, self.embedding_size)\n",
        "    self.embedding.weights = nn.Parameter(self.word_embeddings, requires_grad=False)\n",
        "\n",
        "    # BILSTM Layer\n",
        "    self.recurrent1 = nn.LSTM(self.embedding_size, self.hidden_size, bidirectional=True)\n",
        "\n",
        "  def forward(self, text):\n",
        "    # Embedding Layer\n",
        "    embedded_text = self.embedding(text)\n",
        "    embedded_text = self.dropout(embedded_text)\n",
        "\n",
        "    # BILSTM Layer\n",
        "    output_text, (hidden_text,_) = self.recurrent1(embedded_text)\n",
        "    hidden_text = (hidden_text[0] + hidden_text[1]).unsqueeze(0)\n",
        "    output_text = output_text[:,:,:self.hidden_size] + output_text[:,:,self.hidden_size:]  \n",
        "    return output_text, hidden_text\n",
        "\n",
        "encoder = Encoder(hidden_size, vocab_size, embedding_size, word_embeddings).to(device)"
      ],
      "execution_count": 0,
      "outputs": [
        {
          "output_type": "stream",
          "text": [
            "\r100%|█████████▉| 399725/400000 [01:10<00:00, 7908.04it/s]"
          ],
          "name": "stderr"
        }
      ]
    },
    {
      "cell_type": "markdown",
      "metadata": {
        "id": "oPdcInlClxIh",
        "colab_type": "text"
      },
      "source": [
        "## Q6b. The Decoder Model (3 pts)\n",
        "\n",
        "Define the `decoder` model. It will be the same as the `encoder` model with the only difference being there will be an additional fully-connected layer after the output from each token in the sequence. This FC layer will have an output size equal to the vocabulary size.\n",
        "\n",
        "**Q6b (3 pts):** Take a screenshot of your decoder architecture and attach it in your writeup. Explain your rationale for the architecture."
      ]
    },
    {
      "cell_type": "code",
      "metadata": {
        "id": "byEqvLKdYUe5",
        "colab_type": "code",
        "colab": {}
      },
      "source": [
        "# Define a BILSTM Decoder\n",
        "class Decoder(nn.Module):\n",
        "  def __init__(self, hidden_size, vocab_size, embedding_size, word_embeddings, dropout_v=0.2):\n",
        "    super(Decoder,self).__init__()\n",
        "    self.hidden_size = hidden_size \n",
        "    self.vocab_size = vocab_size\n",
        "    self.embedding_size = embedding_size\n",
        "    self.word_embeddings = word_embeddings\n",
        "    self.dropout = nn.Dropout(dropout_v)\n",
        "\n",
        "    # Embedding Layer\n",
        "    self.embedding = nn.Embedding(self.vocab_size, self.embedding_size)\n",
        "    self.embedding.weights = nn.Parameter(self.word_embeddings, requires_grad=False)\n",
        "\n",
        "    # BILSTM Layer\n",
        "    self.recurrent1 = nn.LSTM(self.embedding_size+self.hidden_size, self.hidden_size, bidirectional=True)\n",
        "\n",
        "    # Fully Connected Layer\n",
        "    self.fc1 = nn.Linear(self.hidden_size, self.vocab_size)\n",
        "\n",
        "  def forward(self, encoder_hidden, decoder_input):    \n",
        "    # decoder_input = [batch_size], embedded_input = [1, batch_size, embedding_size]\n",
        "    embedded_input = self.embedding(decoder_input.unsqueeze(0))\n",
        "    embedded_input = self.dropout(embedded_input) \n",
        "\n",
        "    # encoder_hidden = [1, batch_size, hidden_size]\n",
        "    input_rnn = torch.cat((encoder_hidden, embedded_input), dim=2)\n",
        "    output_rnn, (hidden_rnn,_) = self.recurrent1(input_rnn)\n",
        "    output_rnn = output_rnn[:,:,:self.hidden_size] + output_rnn[:,:,self.hidden_size:]\n",
        "\n",
        "    # Fully Connected Layer\n",
        "    prediction = self.fc1(output_rnn.squeeze(0))\n",
        "    return prediction\n",
        "\n",
        "decoder = Decoder(hidden_size, vocab_size, embedding_size, word_embeddings).to(device)"
      ],
      "execution_count": 0,
      "outputs": []
    },
    {
      "cell_type": "markdown",
      "metadata": {
        "id": "ac5JXZXwmTfF",
        "colab_type": "text"
      },
      "source": [
        "## Q6c. The Encoder-Decoder Model (4 pts)\n",
        "\n",
        "Now, you will define the encoder-decoder model which represents the overall architecture end-to-end. \n",
        "\n",
        "The encoder-decoder architeture will behave as follows,\n",
        "\n",
        "\n",
        "*   Pass the review text as input through the encoder.\n",
        "*   Initialize the hidden state of the decoder with the last hidden state output from the encoder.\n",
        "*   The decoder will take the `<start>` token as the input in the first timestep and produce an output one timestep at a time. This means your decoder should be passed only one token at a time and output a single token. The output from the previous timestep will be fed as input in the current timestep.\n",
        "*   Return the output from the decoder concatenated at each timestep.\n",
        "\n",
        "While training, the decoder will generate outputs till the maximum summary length for that batch. This means, you will call the decoder in a for loop which runs till the length of the decoder output sequence is equal to the maximum length of the summary (true label) for that batch.\n",
        "\n",
        "During evaluation, the decoder will produce an output till the decoder outputs the `<end>` token. The batch size has to be 1 during evaluation.\n",
        "\n",
        "**Q6c (4 pts):** Take a screenshot of your encoder-decoder architecture and attach it in your writeup. Explain your rationale for the architecture.\n",
        "\n"
      ]
    },
    {
      "cell_type": "code",
      "metadata": {
        "id": "4FbfO0tfIM_D",
        "colab_type": "code",
        "colab": {}
      },
      "source": [
        "class Encoder_Decoder(nn.Module):\n",
        "  def __init__(self, encoder, decoder):\n",
        "    super(Encoder_Decoder,self).__init__()\n",
        "    self.encoder = encoder\n",
        "    self.decoder = decoder\n",
        "\n",
        "  def forward(self, text, summary):\n",
        "    output_size, batch_size, vocab_size = summary.shape[0], summary.shape[1], self.decoder.vocab_size\n",
        "    outputs = torch.zeros(output_size, batch_size, vocab_size) \n",
        "    \n",
        "    encoder_output, encoder_hidden = self.encoder(text)\n",
        "\n",
        "    decoder_input = summary[0,:]\n",
        "    for t in range(1,output_size):                          \n",
        "      prediction = self.decoder(encoder_hidden, decoder_input)\n",
        "      outputs[t] = prediction\n",
        "      decoder_input = prediction.argmax(1)\n",
        "    return outputs\n",
        "\n",
        "model_s2s = Encoder_Decoder(encoder, decoder).to(device)"
      ],
      "execution_count": 0,
      "outputs": []
    },
    {
      "cell_type": "markdown",
      "metadata": {
        "id": "VVwhkhzAKu08",
        "colab_type": "text"
      },
      "source": [
        "## Q6d. Train Seq2Seq (5 pts)\n",
        "\n",
        "**Q6d (5 pts):** Initialize all the three models with appropriate parameters. Train the Seq2Seq model end-to-end. Use `nn.CrossEntropyLoss` for the decoder output. Report the final training loss. Plot the training loss curve and include it in your write-up."
      ]
    },
    {
      "cell_type": "code",
      "metadata": {
        "id": "2R-pcxubmXcZ",
        "colab_type": "code",
        "colab": {}
      },
      "source": [
        "# TODO: INSERT CODE HERE\n",
        "def train_classifier_s2s(model, dataset_iterator, loss_function, optimizer, batch_size, epochs=10, log=\"runs\", verbose=True, print_every=100):\n",
        "  #tensorboard writer\n",
        "  writer = SummaryWriter(log_dir=log) \n",
        "  model.train()\n",
        "  step = 0\n",
        "\n",
        "  for epoch in range(epochs):\n",
        "    total = 0\n",
        "    total_loss = 0\n",
        "    \n",
        "    for i, batch in enumerate(dataset_iterator):\n",
        "      text,_ = batch.Text \n",
        "      summary,_ = batch.Summary \n",
        "\n",
        "      if text.shape[1] < batch_size or summary.shape[1] < batch_size:\n",
        "        continue\n",
        "  \n",
        "      optimizer.zero_grad()\n",
        "      output = model(text, summary).to(device)\n",
        "      output_size = output.shape[-1]\n",
        "      output = output[1:].view(-1, output_size)\n",
        "      summary = summary[1:].view(-1)\n",
        "\n",
        "      loss = loss_function(output, summary)\n",
        "      loss.backward()\n",
        "      optimizer.step()\n",
        "\n",
        "      total_loss += loss.item()\n",
        "      total += batch_size\n",
        "  \n",
        "      if ((step % print_every) == 0):\n",
        "        writer.add_scalar(\"Training Loss\", total_loss/total, step)\n",
        "        if verbose:\n",
        "          print(\"--- Step: %s Training Loss: %.4f\" %(step, total_loss/total))\n",
        "      step = step+1\n",
        "      if step == 5000: break\n",
        "  print(\"Epoch: %s Training Loss: %.4f\"%(epoch+1, total_loss/total))"
      ],
      "execution_count": 0,
      "outputs": []
    },
    {
      "cell_type": "code",
      "metadata": {
        "id": "RWFpSfD7-i-C",
        "colab_type": "code",
        "colab": {}
      },
      "source": [
        "criterion = nn.CrossEntropyLoss()\n",
        "optimizer = torch.optim.Adam(model_s2s.parameters(), lr=0.001)\n",
        "logger_s2s = 'runs/s2s'\n",
        "train_classifier_s2s(model_s2s, train_s2s_iterator, criterion, optimizer, batch_size, epochs=epochs, log=logger_s2s, verbose=True, print_every=100)"
      ],
      "execution_count": 0,
      "outputs": []
    },
    {
      "cell_type": "markdown",
      "metadata": {
        "id": "hRZyKPsu_WW3",
        "colab_type": "text"
      },
      "source": [
        "## Q6e. Evaluate Seq2Seq (10 pts)\n",
        "\n",
        "**Q6e (5 pts):** Write a function to run inference on the Seq2Seq model. This function should generate the summary for one review at a time and print it to Tensorboard. Make sure you remove the `<start>`, `<end>` and `<pad>` tokens if any before logging it to tensorboard. In your writeup, report 5 of your best summarizations (i.e. include the raw text, the ground truth summarization, and your summarization). Don't worry, we'll be very generous grading your generated summaries! "
      ]
    },
    {
      "cell_type": "code",
      "metadata": {
        "id": "DvcNV7WyfL_J",
        "colab_type": "code",
        "colab": {}
      },
      "source": [
        "def process(l):\n",
        "  # get rid of '<unk>', '<pad>', '<start>', '<end>'\n",
        "  stopwords = ['<unk>', '<pad>', '<start>', '<end>']\n",
        "  new_l = [s for s in l if s not in stopwords]\n",
        "  res = ' '.join(new_l)\n",
        "  return res"
      ],
      "execution_count": 0,
      "outputs": []
    },
    {
      "cell_type": "code",
      "metadata": {
        "id": "UlY-oi7u_WeQ",
        "colab_type": "code",
        "colab": {}
      },
      "source": [
        "# TODO: INSERT CODE HERE\n",
        "def evaluate_classifier(model, dataset_iterator, log='seqs', batch_size=1):\n",
        "  #tensorboard writer\n",
        "  writer = SummaryWriter(log_dir=log) \n",
        "  model.eval()\n",
        "\n",
        "  with torch.no_grad():\n",
        "    for i,batch in enumerate(dataset_iterator):\n",
        "      if i == 5: break\n",
        "      text,_ = batch.Text\n",
        "      summary,_ = batch.Summary\n",
        "\n",
        "      if text.shape[1] < batch_size or summary.shape[1] < batch_size:\n",
        "        continue\n",
        "      \n",
        "      output = model(text, summary)\n",
        "      output_size = output.shape[-1]\n",
        "      output = output[1:].view(-1, output_size)\n",
        "      summary = summary[1:].view(-1)\n",
        "      _,pred = torch.max(output.data, 1) \n",
        "\n",
        "\n",
        "      Text = np.array(TEXT_S2S.vocab.itos)[text.view(-1).cpu()].tolist()\n",
        "      Summary = np.array(TEXT_S2S.vocab.itos)[summary.cpu()].tolist()\n",
        "      Prediction = np.array(TEXT_S2S.vocab.itos)[pred].tolist()\n",
        "\n",
        "      print(f'text: {Text}')\n",
        "      print(f'summary: {Summary}')    \n",
        "      print(f'predict: {Prediction}')\n",
        "\n",
        "      writer.add_text('Text', process(Text), i+1)\n",
        "      writer.add_text('Summary', process(Summary), i+1)\n",
        "      writer.add_text('Prediction', process(Prediction), i+1)"
      ],
      "execution_count": 0,
      "outputs": []
    },
    {
      "cell_type": "code",
      "metadata": {
        "id": "ga5LZUzeMzZv",
        "colab_type": "code",
        "outputId": "ca1d4a7f-862f-426f-f2bd-845568d85cb4",
        "colab": {
          "base_uri": "https://localhost:8080/",
          "height": 313
        }
      },
      "source": [
        "logger_seqs = 'seqs/s2s'\n",
        "evaluate_classifier(model_s2s, val_s2s_iterator, logger_seqs)"
      ],
      "execution_count": 0,
      "outputs": [
        {
          "output_type": "stream",
          "text": [
            "text: ['<start>', 'the', 'caffe', 'appassionato', 'espresso', 'roast', 'product', 'is', 'quite', 'nice', 'and', 'yields', 'a', 'rich', 'and', 'rather', 'complex', 'flavor', 'when', 'one', 'uses', 'a', 'french', 'press', '.', ' ', 'the', 'five', 'pound', 'bag', 'is', 'stored', 'at', '<unk>', 'at', 'our', 'home', 'and', 'an', 'adequate', 'supply', 'for', '5', 'to', '7', 'days', 'is', 'retrieved', 'and', 'stored', 'at', 'room', 'temperature', 'prior', 'to', 'the', 'grinding', 'of', 'the', 'beans', '.', ' ', 'my', 'best', ',', '<unk>', '<end>']\n",
            "summary: ['caffe', 'appassionato', '<end>']\n",
            "predict: ['great', 'coffee', '<end>']\n",
            "text: ['<start>', 'i', 'do', \"n't\", 'go', 'a', 'week', 'without', 'wanting', 'a', 'good', 'taco', 'bell', 'fix', ',', 'so', 'i', 'was', 'excited', 'to', 'try', 'this', 'out', ',', 'help', 'keep', 'the', 'cravings', 'at', 'bay', 'from', 'time', 'to', 'time', '.', ' ', 'unfortunately', 'it', \"'s\", 'pretty', 'weak', ',', 'the', 'flavor', 'is', 'alright', 'but', 'it', \"'s\", 'got', 'a', 'strange', 'aftertaste', 'and', 'is', 'anything', 'but', '\"', 'bold', '\"', '.', '<end>']\n",
            "summary: ['i', 'love', 'taco', 'bell', 'but', 'this', 'is', \"n't\", 'up', 'to', 'snuff', '<end>']\n",
            "predict: ['not', '<end>', '<pad>', '<pad>', '<pad>', '<pad>', '<pad>', '<pad>', '<pad>', '<pad>', '<pad>', '<pad>']\n",
            "text: ['<start>', 'gold', 'prince', 'has', 'made', 'a', 'terrible', 'mistake', '.', ' ', 'there', 'are', 'two', 'products', '.', ' ', 'coldaid', 'and', 'fluaid', '.', ' ', 'they', 'are', 'different', 'formulary', '.', ' ', 'unfortunately', 'they', 'display', 'fluaid', 'picture', 'on', 'the', 'amazon', 'website', 'and', 'their', 'own', 'website', 'but', 'the', 'words', 'are', 'coldaid', '.', ' ', 'there', 'is', 'a', 'separate', 'product', 'for', 'coldaid', '.', ' ', 'regardless', '--', 'if', 'you', 'order', 'the', 'fluaid', 'on', 'amazon', 'you', 'will', 'get', 'the', 'coldaid', '...', 'the', 'picture', 'is', 'not', 'the', 'product', '...', 'the', 'words', 'under', 'the', 'drop', 'down', 'menu', 'are', 'worthless', '...', 'as', 'they', 'all', 'default', 'to', 'the', 'same', 'product', 'coldaid', '.', ' ', 'if', 'you', 'want', 'fluaid', ',', 'which', 'is', 'the', 'superior', 'product', ',', 'do', \"n't\", 'buy', 'it', 'from', 'amazon', 'or', 'off', 'of', 'the', 'sellers', 'website', '.', ' ', 'it', 'is', 'a', 'mistake.http://www.amazon.com/gp/product/b002p936uk/ref=cm_cr_rev_prod_title', '<end>']\n",
            "summary: ['wrong', 'product', 'wrong', 'name', '<end>']\n",
            "predict: ['not', '<end>', '<pad>', '<pad>', '<pad>']\n",
            "text: ['<start>', 'it', 'was', 'much', 'smaller', 'than', 'i', 'expected', 'for', 'the', 'price', ',', 'however', ',', 'the', 'smoky', 'flavor', 'was', 'very', 'tasty', '.', ' ', 'along', 'with', 'the', 'smoky', 'flavor', ',', 'it', 'was', 'a', 'bit', 'too', 'salty', 'for', 'me', '.', ' ', 'i', 'was', 'expecting', 'a', 'more', 'maple', 'flavor', 'but', 'it', 'was', 'very', 'slight', 'in', 'comparison', 'to', 'the', 'saltiness', '.', ' ', 'not', 'the', 'easiest', 'food', 'to', 'eat', 'though', '.', ' ', 'i', 'found', 'it', 'was', 'much', 'tougher', 'than', 'regular', 'beef', 'jerky', 'which', 'was', 'unexpected', '.', ' ', 'overall', ',', 'it', \"'s\", 'not', 'a', 'bad', 'snack', 'in', 'small', 'amounts', 'due', 'to', 'the', 'sodium', 'but', 'i', 'do', \"n't\", 'think', 'i', \"'d\", 'purchase', 'again', '.', '<end>']\n",
            "summary: ['super', 'smoky', 'but', 'more', 'salty', 'than', 'expected', '<end>']\n",
            "predict: ['not', '<end>', '<pad>', '<pad>', '<pad>', '<pad>', '<pad>', '<pad>']\n",
            "text: ['<start>', 'it', 'smells', 'nice', ',', 'and', 'has', 'a', 'thick', 'consistency', ',', 'but', 'rather', 'than', 'call', 'it', 'a', 'scrub', ',', 'i', \"'d\", 'call', 'it', 'a', 'cleanser', ';', 'the', 'particles', 'meant', 'to', 'be', 'scrubbing', 'your', 'face', 'are', \"n't\", 'big', 'enough', 'to', 'do', 'much', 'scrubbing', ';', 'if', 'you', 'want', 'a', 'very', ',', 'very', ',', 'very', 'gentle', 'scrub', 'then', 'this', 'may', 'be', 'for', 'you', ',', 'but', 'for', 'those', 'of', 'you', 'who', 'have', 'used', 'the', 'st', '.', 'ives', 'apricot', 'scrub', ',', 'and', 'want', 'something', 'more', 'effective', 'then', 'you', 'should', 'look', 'elsewhere', '.', 'on', 'the', 'plus', 'side', ',', 'it', 'is', 'partially', 'organic', ',', 'and', 'natural', ',', 'and', 'as', 'i', 'mentioned', 'earlier', 'it', 'smells', 'nice', '.', 'i', 'just', 'saw', 'a', 'review', 'about', 'how', 'it', 'smelled', 'like', 'rotten', 'pineapples', ',', 'and', 'how', 'it', 'caused', 'a', 'pimple', 'outbreak', 'on', 'the', 'reviewer', '-', \"i'm\", 'guessing', 'it', 'was', 'either', 'expired', ',', 'or', 'had', 'gone', 'bad', 'so', 'do', \"n't\", 'let', 'that', 'scare', 'you', 'away', 'from', 'trying', 'it', '-', 'you', 'might', 'like', 'it', '.', 'as', 'for', 'me', ',', 'i', 'need', 'something', 'with', 'bigger', 'particles', 'so', 'maybe', 'i', \"'ll\", 'just', 'do', 'a', 'homemade', 'scrub', 'with', 'sugar', '-', 'or', 'better', 'yet', ',', 'i', 'can', 'add', 'a', 'little', 'sugar', 'to', 'the', 'scrub', 'to', 'make', 'it', 'more', 'effective', '.', 'oh', ',', 'and', 'before', 'i', 'forget', ',', 'my', 'face', 'did', 'look', 'a', 'little', 'brighter', 'after', 'i', 'used', 'the', 'scrub', '.', 'it', 'is', \"n't\", 'allthat', 'bad', ',', 'but', 'it', \"'s\", 'just', 'not', 'what', 'i', 'was', 'looking', 'for', 'in', 'a', 'scrub', '.', '<end>']\n",
            "summary: ['it', \"'s\", 'alright', '<end>']\n",
            "predict: ['not', ',', '<end>', '<pad>']\n"
          ],
          "name": "stdout"
        }
      ]
    },
    {
      "cell_type": "code",
      "metadata": {
        "id": "_H-NnuiqfVcj",
        "colab_type": "code",
        "colab": {}
      },
      "source": [
        "%tensorboard --logdir '/content/seqs'"
      ],
      "execution_count": 0,
      "outputs": []
    },
    {
      "cell_type": "markdown",
      "metadata": {
        "id": "K9rJKtqLOcJr",
        "colab_type": "text"
      },
      "source": [
        "**Q6f (5 pts):** Analyze your summarizations in the writeup. Are there any words that are repeated? Why do you think the generation is as such? There's no right answers here, respond with whatever you observe from your results."
      ]
    },
    {
      "cell_type": "markdown",
      "metadata": {
        "id": "I5jQcYDIzJ4o",
        "colab_type": "text"
      },
      "source": [
        "# Submission Instructions\n",
        "\n",
        "The deadline for all parts of this assignment is **April 2, 2020 at 11:59pm**.\n",
        "\n",
        "There are two submissions on Gradescope:\n",
        "*   HW4 - Natural Language Processing (Writeup)\n",
        "*   HW4 - Natural Language Processing (Programming)\n",
        "\n",
        "For *HW4 - Natural Language Processing (Writeup)* submit your written responses to the questions above as the file **\"522_HW4_writeup.pdf\"**\n",
        "\n",
        "For *HW4 - Natural Language Processing (Programming)* submit the following files as your submission:\n",
        "1.   522_HW4_submission.dill\n",
        "2.   This notebook, named as 522_HW4_notebook.ipynb\n",
        "\n",
        "**Leaderboard:** When you submit, you can choose to add yourself as part of the leaderboard! Extra credit may be awarded to those that perform particularly well on the leaderboard.\n",
        "\n",
        "**Gradescope Score:** After you submit, you'll see that all of the classifier questions are out of zero points. To encourage as much hypertuning, we will not be releasing the accuracy cutoffs until after the late deadline has passed."
      ]
    },
    {
      "cell_type": "code",
      "metadata": {
        "id": "-JWscbDL2n2C",
        "colab_type": "code",
        "colab": {}
      },
      "source": [
        "import dill\n",
        "import os\n",
        "\n",
        "file_to_obj_map = {\n",
        "    \"test_case_1b\"        : test_case_1b,\n",
        "    \"test_case_1c\"        : test_case_1c,\n",
        "    \"test_case_3e_rnn\"      : test_case_3e_rnn,\n",
        "    \"test_case_3e_lstm\"     : test_case_3e_lstm,\n",
        "    \"test_case_3e_gru\"     : test_case_3e_gru,\n",
        "    \"test_case_3e_bilstm\"   : test_case_3e_bilstm,\n",
        "    \"test_case_4e\"        : test_case_4e,\n",
        "    \"test_case_5b\"        : test_case_5b\n",
        "}\n",
        "\n",
        "tests_path = \"522_HW4_submission.dill\"\n",
        "with open(root_path+tests_path, 'wb') as pickle_file:\n",
        "  dill.dump(file_to_obj_map, pickle_file)"
      ],
      "execution_count": 0,
      "outputs": []
    }
  ]
}